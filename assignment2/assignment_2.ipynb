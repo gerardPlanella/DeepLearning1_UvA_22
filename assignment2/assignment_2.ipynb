{
  "cells": [
    {
      "cell_type": "markdown",
      "metadata": {
        "id": "view-in-github",
        "colab_type": "text"
      },
      "source": [
        "<a href=\"https://colab.research.google.com/github/gerardPlanella/DeepLearning1_UvA_22/blob/main/assignment2/assignment_2.ipynb\" target=\"_parent\"><img src=\"https://colab.research.google.com/assets/colab-badge.svg\" alt=\"Open In Colab\"/></a>"
      ]
    },
    {
      "cell_type": "markdown",
      "metadata": {
        "id": "XaRh7xwHiNHT"
      },
      "source": [
        "# Deep Learning 1, Assignment 2: Transfer Learning for CNNs, Visual Prompting, Graph Neural Networks"
      ]
    },
    {
      "cell_type": "code",
      "execution_count": null,
      "metadata": {
        "id": "0GaiZ_GqiNHW"
      },
      "outputs": [],
      "source": [
        "from __future__ import absolute_import\n",
        "from __future__ import division\n",
        "from __future__ import print_function\n",
        "\n",
        "import numpy as np\n",
        "from tqdm.auto import tqdm\n",
        "\n",
        "import torch\n",
        "import torch.nn as nn\n",
        "import torchvision\n",
        "from torchvision.datasets import CIFAR100\n",
        "from torch.utils.data.dataloader import DataLoader\n",
        "import torchvision.transforms as tt\n",
        "from torch.utils.data import DataLoader\n",
        "import torch.nn as nn\n",
        "import torch.optim as optim\n",
        "from torch.optim import lr_scheduler\n",
        "#Import Models to evaluate\n",
        "from torchvision.models import vgg11, vgg11_bn, resnet18, resnet34, densenet121, mobilenet_v3_small\n",
        "from tqdm import tqdm\n",
        "import matplotlib.pyplot as plt\n",
        "\n",
        "import numpy as np\n",
        "import time\n",
        "from copy import deepcopy\n",
        "import gc\n",
        "\n",
        "%matplotlib inline"
      ]
    },
    {
      "cell_type": "markdown",
      "source": [
        "We will set the seeds and detect the GPU used."
      ],
      "metadata": {
        "id": "VOGmrqW8-35A"
      }
    },
    {
      "cell_type": "code",
      "source": [
        "seed = 42\n",
        "# Set the random seeds for reproducibility\n",
        "np.random.seed(seed)\n",
        "torch.manual_seed(seed)\n",
        "if torch.cuda.is_available():  # GPU operation have separate seed\n",
        "    torch.cuda.manual_seed(seed)\n",
        "    torch.cuda.manual_seed_all(seed)\n",
        "    torch.backends.cudnn.determinstic = True\n",
        "    torch.backends.cudnn.benchmark = False\n",
        "\n",
        "# Set default device\n",
        "device = torch.device('cuda' if torch.cuda.is_available() else 'cpu')\n",
        "\n",
        "if(torch.cuda.is_available()):\n",
        "    print(\"Using GPU: \" + torch.cuda.get_device_name(device))\n",
        "else:\n",
        "    print(\"Using CPU\")"
      ],
      "metadata": {
        "id": "SDg77c2R-3d1",
        "colab": {
          "base_uri": "https://localhost:8080/"
        },
        "outputId": "11a77034-a0c1-4453-efb0-fc5487318feb"
      },
      "execution_count": 8,
      "outputs": [
        {
          "output_type": "stream",
          "name": "stdout",
          "text": [
            "Using GPU: Tesla T4\n"
          ]
        }
      ]
    },
    {
      "cell_type": "markdown",
      "metadata": {
        "id": "Zhj8wzIHiNHa"
      },
      "source": [
        "## Part 1: Transfer Learning for CNNs"
      ]
    },
    {
      "cell_type": "markdown",
      "metadata": {
        "id": "gSpgoGBciNHb"
      },
      "source": [
        "### 1a: Model Comparison"
      ]
    },
    {
      "cell_type": "markdown",
      "metadata": {
        "id": "SiQ7hpdUiNHb"
      },
      "source": [
        "We will compare the models VGG11, VGG11 with Batch Normalization, ResNet18, ResNet34, DenseNet121 and MobileNet-v3-Small using the Top-1 accuracy on Image Net. The models used are pre-trained from PyTorch."
      ]
    },
    {
      "cell_type": "code",
      "execution_count": null,
      "metadata": {
        "colab": {
          "base_uri": "https://localhost:8080/",
          "height": 333,
          "referenced_widgets": [
            "4e7e36f7b39d49a994198d8ee1227836",
            "419b9bcbdc6b4bdabc43286b6888ae6b",
            "d63d3ef9911a4ac7ad55d7ffcbba91d8",
            "641aaa303ade4ec0b7291dc9dd78f77e",
            "a395b16057284b0c8ffdc309f2ab05c3",
            "fe3238a86641450d90e2740dfc40b4ca",
            "39a1c3930b1c4ecd8b589395ee4b5d06",
            "2b8c8896e5044fc5a4a252be4f8687ea",
            "c612f298f38d4f59a69e6fae63c3bec7",
            "9782e8b0130b43718a082d11d518c7c9",
            "c0d0cb991e084ba6ae95d2a0a2c049a6",
            "3a0bc3a06df84c95b948114f10a28dd4",
            "84f9258e9d53469ca5c18425656bf96c",
            "d0cda3a407c94eb7b65c4b5c1f3d0d9d",
            "8862b3bf1fa749a0a2ca5df07ed5420d",
            "839ec7d450974c4e85570b61da7b9855",
            "71ca03466f9d485c82e3b6e0adc79ad0",
            "7b34d4a1c7424acb978805794bf0feb4",
            "25c1a01c2ad84f3a9909fdad00577e34",
            "e12a531bbaae43f187fd061a208e9705",
            "47a40ccd4b2f466ca1baf54433ce86fc",
            "2aa6258b8c3d4c7ebf367b0f9fc77d9d",
            "3b5f5589539f4d778a91237b287f27ec",
            "2dcf142961254597ade86e467f507a8b",
            "9428e8b6d9a24ef4b64c89dce2019aae",
            "01a0f9c6d1314e5490b3fb4c993462c9",
            "c3362c79fc374404a5bafa55565f0c59",
            "91e029f94a1d4cd099ae529ca96f37af",
            "e7c028b345ad4922bd9be366544f50b9",
            "0e154fe3730940cdabcfad6f8b08ee49",
            "24300503d0fc44708b44970ed8fded1d",
            "eb399399303b4c56ab21f846b82657d5",
            "30945b478187458fab7639a649e4e946",
            "83bb868cce50455a959078cce3e5b10f",
            "3b3a74850cd746458d5092df7804a6e5",
            "dcc4fc69183e4674b758a0052e7fcf5f",
            "bfa84b7814b1405da8a6460ab6d92c45",
            "4cc1ddf171fb4568b29baf0b0c990798",
            "e903bc7051db42ce97a54953d1a0db19",
            "a0abcc9dad1a4536b83237a0db43346b",
            "7b3d8c46c8ff4d8192b382e588458ed2",
            "9d020648b9cb46eaae0c12836fe10b04",
            "0f9470d3e89a481c8a97b8de2fcf5df8",
            "a6c4b2ee1a4c4ac1a6603f8bb6717cac",
            "ac73e34ec534490181c47f27240b2ba4",
            "e6013f9c3e954e259789a9bba1a6a902",
            "0f074808a2f443f5bb1847d723fe12c9",
            "53a4e548ef3d4baaa78dc25f7aee5d25",
            "479b9ae799904a908ba0688665039e8e",
            "7ee65da583404c9c9dc9a3ecb40bbe35",
            "758a7daf6ff14601abf94b14f39af697",
            "0eaabd1050464a0d91a7f5850e8515f8",
            "3ce20a6cb9d84eb1bda79c3503838e55",
            "78840bc40e3a478e8ba56e273aa9708f",
            "4ee3b50c472d46dcaa153da80e524e94",
            "15e5cf722a6e408bab1af83654bf3f38",
            "d9b5485dceea4c47a60c364d74eee376",
            "aff67babb1344feead94d4756ee03d2a",
            "fafd264f2c7c44c78853d83a58b60488",
            "d145f67795e44e959e99edf76f85de6a",
            "ef4befa85bf741cb90104965870be5ef",
            "839e8386567645a28ab4d96bedea50c4",
            "954cd5268ba7481c8729cbcbc2f96aa8",
            "0630f72fff2147db84a420670bdbb02c",
            "3e0e1ba39d6548c7b8d0cd08e24c0665",
            "ba7837daae934c32a33a41b2e8f450bf"
          ]
        },
        "id": "7pmCd8B3iNHc",
        "outputId": "afab18fe-cc41-4549-9884-80e34287adfc"
      },
      "outputs": [
        {
          "output_type": "stream",
          "name": "stderr",
          "text": [
            "Downloading: \"https://download.pytorch.org/models/vgg11-8a719046.pth\" to /root/.cache/torch/hub/checkpoints/vgg11-8a719046.pth\n"
          ]
        },
        {
          "output_type": "display_data",
          "data": {
            "text/plain": [
              "  0%|          | 0.00/507M [00:00<?, ?B/s]"
            ],
            "application/vnd.jupyter.widget-view+json": {
              "version_major": 2,
              "version_minor": 0,
              "model_id": "4e7e36f7b39d49a994198d8ee1227836"
            }
          },
          "metadata": {}
        },
        {
          "output_type": "stream",
          "name": "stderr",
          "text": [
            "Downloading: \"https://download.pytorch.org/models/vgg11_bn-6002323d.pth\" to /root/.cache/torch/hub/checkpoints/vgg11_bn-6002323d.pth\n"
          ]
        },
        {
          "output_type": "display_data",
          "data": {
            "text/plain": [
              "  0%|          | 0.00/507M [00:00<?, ?B/s]"
            ],
            "application/vnd.jupyter.widget-view+json": {
              "version_major": 2,
              "version_minor": 0,
              "model_id": "3a0bc3a06df84c95b948114f10a28dd4"
            }
          },
          "metadata": {}
        },
        {
          "output_type": "stream",
          "name": "stderr",
          "text": [
            "Downloading: \"https://download.pytorch.org/models/resnet18-f37072fd.pth\" to /root/.cache/torch/hub/checkpoints/resnet18-f37072fd.pth\n"
          ]
        },
        {
          "output_type": "display_data",
          "data": {
            "text/plain": [
              "  0%|          | 0.00/44.7M [00:00<?, ?B/s]"
            ],
            "application/vnd.jupyter.widget-view+json": {
              "version_major": 2,
              "version_minor": 0,
              "model_id": "3b5f5589539f4d778a91237b287f27ec"
            }
          },
          "metadata": {}
        },
        {
          "output_type": "stream",
          "name": "stderr",
          "text": [
            "Downloading: \"https://download.pytorch.org/models/resnet34-b627a593.pth\" to /root/.cache/torch/hub/checkpoints/resnet34-b627a593.pth\n"
          ]
        },
        {
          "output_type": "display_data",
          "data": {
            "text/plain": [
              "  0%|          | 0.00/83.3M [00:00<?, ?B/s]"
            ],
            "application/vnd.jupyter.widget-view+json": {
              "version_major": 2,
              "version_minor": 0,
              "model_id": "83bb868cce50455a959078cce3e5b10f"
            }
          },
          "metadata": {}
        },
        {
          "output_type": "stream",
          "name": "stderr",
          "text": [
            "Downloading: \"https://download.pytorch.org/models/densenet121-a639ec97.pth\" to /root/.cache/torch/hub/checkpoints/densenet121-a639ec97.pth\n"
          ]
        },
        {
          "output_type": "display_data",
          "data": {
            "text/plain": [
              "  0%|          | 0.00/30.8M [00:00<?, ?B/s]"
            ],
            "application/vnd.jupyter.widget-view+json": {
              "version_major": 2,
              "version_minor": 0,
              "model_id": "ac73e34ec534490181c47f27240b2ba4"
            }
          },
          "metadata": {}
        },
        {
          "output_type": "stream",
          "name": "stderr",
          "text": [
            "Downloading: \"https://download.pytorch.org/models/mobilenet_v3_small-047dcff4.pth\" to /root/.cache/torch/hub/checkpoints/mobilenet_v3_small-047dcff4.pth\n"
          ]
        },
        {
          "output_type": "display_data",
          "data": {
            "text/plain": [
              "  0%|          | 0.00/9.83M [00:00<?, ?B/s]"
            ],
            "application/vnd.jupyter.widget-view+json": {
              "version_major": 2,
              "version_minor": 0,
              "model_id": "15e5cf722a6e408bab1af83654bf3f38"
            }
          },
          "metadata": {}
        }
      ],
      "source": [
        "N_IMAGES = 10\n",
        "IMAGE_DIM = 256\n",
        "DATASET = \"IMAGENET1K_V1\"\n",
        "fake_image = torch.rand(1, 3, IMAGE_DIM, IMAGE_DIM, dtype=torch.float)\n",
        "\n",
        "model_info = {\n",
        "    \"VGG11\": {\"top1acc\": 69.02, \"n_params\": 132863336, \"inference_time_noGrad\": None, \"inference_time\": None},\n",
        "    \"VGG11_BN\": {\"top1acc\": 70.37, \"n_params\": 132863336, \"inference_time_noGrad\": None, \"inference_time\": None},\n",
        "    \"ResNet18\": {\"top1acc\": 69.758, \"n_params\" : 11689512, \"inference_time_noGrad\": None, \"inference_time\": None},\n",
        "    \"ResNet34\": {\"top1acc\": 73.314, \"n_params\": 21797672, \"inference_time_noGrad\": None, \"inference_time\": None},\n",
        "    \"DenseNet121\": {\"top1acc\": 74.434, \"n_params\": 7978856, \"inference_time_noGrad\": None, \"inference_time\": None},\n",
        "    \"MobileNetV3_Small\": {\"top1acc\": 67.668, \"n_params\": 2542856, \"inference_time_noGrad\": None, \"inference_time\": None}\n",
        "}\n",
        "\n",
        "models = {\n",
        "    \"VGG11\": vgg11(weights=DATASET),\n",
        "    \"VGG11_BN\":vgg11_bn(weights=DATASET),\n",
        "    \"ResNet18\": resnet18(weights=DATASET),\n",
        "    \"ResNet34\": resnet34(weights=DATASET),\n",
        "    \"DenseNet121\": densenet121(weights=DATASET),\n",
        "    \"MobileNetV3_Small\": mobilenet_v3_small(weights=DATASET)\n",
        "}\n"
      ]
    },
    {
      "cell_type": "markdown",
      "metadata": {
        "id": "Y9CRPN4LiNHc"
      },
      "source": [
        "Firstly, we evaluate the inference times for all the models with and without the torch.no_grad() parameter. We will process 50 images and average the inference time for each model."
      ]
    },
    {
      "cell_type": "code",
      "execution_count": null,
      "metadata": {
        "id": "kn88VSukiNHd"
      },
      "outputs": [],
      "source": [
        "def get_inference_time(model, device, image, repetitions, no_grad = True):\n",
        "    model.eval()\n",
        "    model.to(device)\n",
        "    image = image.to(device)\n",
        "    times = np.zeros((repetitions, 1))\n",
        "    start, end = torch.cuda.Event(enable_timing=True), torch.cuda.Event(enable_timing=True)\n",
        "\n",
        "    #GPU Warmup\n",
        "    for i in range(20):\n",
        "        _ = model(image)\n",
        "    \n",
        "    if no_grad:\n",
        "        with torch.no_grad():\n",
        "            for i in range(repetitions):\n",
        "                start.record()\n",
        "                _ = model(image)\n",
        "                end.record()\n",
        "                torch.cuda.synchronize()\n",
        "                times[i] = start.elapsed_time(end)\n",
        "    else:\n",
        "        for i in range(repetitions):\n",
        "            start.record()\n",
        "            _ = model(image)\n",
        "            end.record()\n",
        "            torch.cuda.synchronize()\n",
        "            times[i] = start.elapsed_time(end)\n",
        "\n",
        "    \n",
        "    time = np.sum(times) / repetitions\n",
        "    model.cpu()\n",
        "    image = image.cpu().detach()\n",
        "    return time\n",
        "\n",
        "N_REPETITONS = 50\n",
        "\n",
        "for model_name in models.keys():\n",
        "    model_info[model_name][\"inference_time_noGrad\"] = get_inference_time(models[model_name], device, fake_image, N_REPETITONS)\n",
        "for model_name in models.keys():\n",
        "    model_info[model_name][\"inference_time\"] = get_inference_time(models[model_name], device, fake_image, N_REPETITONS, no_grad=False)\n"
      ]
    },
    {
      "cell_type": "markdown",
      "metadata": {
        "id": "jKDBrIFgiNHd"
      },
      "source": [
        "We will now plot the results for the different models."
      ]
    },
    {
      "cell_type": "code",
      "execution_count": null,
      "metadata": {
        "colab": {
          "base_uri": "https://localhost:8080/",
          "height": 677
        },
        "id": "Mtq-x0E8iNHe",
        "outputId": "b65d6a7d-4a51-438e-9e8c-6852959aee90"
      },
      "outputs": [
        {
          "output_type": "display_data",
          "data": {
            "text/plain": [
              "<Figure size 720x720 with 2 Axes>"
            ],
            "image/png": "[encoded data removed]"
          },
          "metadata": {
            "needs_background": "light"
          }
        }
      ],
      "source": [
        "def plot_model_info(model_info, x_axis_key, x_axs_label, y_axis_key, y_axis_label, title, ax):\n",
        "    x = [model_info[name][x_axis_key] for name in model_info.keys()]\n",
        "    x_keys = [name for name in model_info.keys()]\n",
        "\n",
        "    y_no_grad = [model_info[name][y_axis_key] for name in x_keys]\n",
        "\n",
        "    for x_val, x_label, y in zip(x, x_keys, y_no_grad):\n",
        "        ax.scatter(x_val, y, label=x_label)\n",
        "\n",
        "    ax.set_title(title)\n",
        "    ax.set_xlabel(x_axs_label)\n",
        "    ax.set_ylabel(y_axis_label)\n",
        "    ax.legend()\n",
        "\n",
        "\n",
        "fig, (ax1, ax2) = plt.subplots(2, 1, figsize=(10,10))\n",
        "\n",
        "fig.suptitle(\"Model Comparison\")\n",
        "\n",
        "plot_model_info(model_info, \"inference_time_noGrad\", \"Inference Time (ms)\", \"top1acc\", \"Top-1 Accuracy (\\%)\", \"Top-1 Accuravy v Inference Time\", ax1)\n",
        "plot_model_info(model_info, \"n_params\", \"Number of Parameters\", \"inference_time_noGrad\", \"Inference Time (ms)\", \"Inference Time v #Parameters\", ax2)\n",
        "\n",
        "plt.show()\n"
      ]
    },
    {
      "cell_type": "markdown",
      "metadata": {
        "id": "COvnti1eiNHe"
      },
      "source": [
        "What we can observe from these plots is that as the number of parameters increases, so does the inference time, which is to be expected. Nevertheless, this is not the case for DenseNet121. This relationship between inference time and # of parameters will be highly dependent on the network architecture.\n",
        "\n",
        "In addition, we can also observe that Models with a higher Inference Time normally have a higher Top-1 Accuracy, which makes sense as the models with higher inference speeds will normally be more complex."
      ]
    },
    {
      "cell_type": "markdown",
      "metadata": {
        "id": "wpKg-erLiNHf"
      },
      "source": [
        "### 1b. Impact of torch.no_grad() on inference speed"
      ]
    },
    {
      "cell_type": "markdown",
      "metadata": {
        "id": "8TMq4iNPiNHf"
      },
      "source": [
        "We will now evaluate the effect that using torch.no_grad()has on our inference time."
      ]
    },
    {
      "cell_type": "code",
      "execution_count": null,
      "metadata": {
        "colab": {
          "base_uri": "https://localhost:8080/",
          "height": 297
        },
        "id": "e8u2Dqf9iNHf",
        "outputId": "7b7dabe6-c9ba-4aaa-9dd3-f91e9163b109"
      },
      "outputs": [
        {
          "output_type": "display_data",
          "data": {
            "text/plain": [
              "<Figure size 432x288 with 1 Axes>"
            ],
            "image/png": "[encoded data removed]"
          },
          "metadata": {
            "needs_background": "light"
          }
        }
      ],
      "source": [
        "def plot_torch_nograd_inference(model_info, ax):\n",
        "    x_keys = [name for name in model_info.keys()]\n",
        "\n",
        "    y_no_grad = [model_info[name][\"inference_time_noGrad\"] for name in x_keys]\n",
        "    y_grad = [model_info[name][\"inference_time\"] for name in x_keys]\n",
        "\n",
        "    width = 0.35\n",
        "    x = np.arange(len(x_keys))\n",
        "    rects1 = ax.bar(x - width/2, y_no_grad, width, label=\"torch.nograd()\")\n",
        "    rects2 = ax.bar(x + width/2, y_grad, width, label=\"With Gradient\")\n",
        "\n",
        "\n",
        "    ax.set_title(\"Impact of torch.no_grad() on Inference Speed\")\n",
        "    #ax.set_xticks(x, x_keys)\n",
        "    ax.set_xticks(x) # values\n",
        "    ax.set_xticklabels(x_keys) \n",
        "    ax.set_ylabel(\"Inference Time (ms)\")\n",
        "    ax.legend()\n",
        "\n",
        "    #ax.bar_label(rects1, padding=3)\n",
        "    #ax.bar_label(rects2, padding=3, label_type=\"center\")\n",
        "    \n",
        "fig, ax = plt.subplots()\n",
        "plot_torch_nograd_inference(model_info, ax)\n",
        "plt.xticks(rotation=90)\n",
        "fig.tight_layout()\n",
        "plt.show()"
      ]
    },
    {
      "cell_type": "markdown",
      "metadata": {
        "id": "eDIbJPh1iNHg"
      },
      "source": [
        "We can see that using torch.no_grad() decreases our inference time. This is to be expected as when computing the forward pass, the no_grad flag will prevent the gpu from saving the outputs that would be used to calculate the backward pass. The time difference we see is given by the time needed to save to memory all of these intermediate values."
      ]
    },
    {
      "cell_type": "markdown",
      "metadata": {
        "id": "NdTFnFd7iNHg"
      },
      "source": [
        "### 1c. GPU vRAM Usage with torch.no_grad()\n",
        "\n",
        "---\n",
        "\n"
      ]
    },
    {
      "cell_type": "markdown",
      "metadata": {
        "id": "pbU2lOf5iNHg"
      },
      "source": [
        "This part will analyse the effect that torch.no_grad() has on the GPU vRAM usage in our forward passes. "
      ]
    },
    {
      "cell_type": "code",
      "execution_count": null,
      "metadata": {
        "id": "5wXJqW9EiNHg"
      },
      "outputs": [],
      "source": [
        "def evaluate_memory_allocation(model, device, no_grad = True, image_dim = IMAGE_DIM):    \n",
        "    mem = None\n",
        "    model.eval()\n",
        "    model.to(device)\n",
        "    fake_batch = torch.rand(64, 3, image_dim, image_dim, dtype=torch.float)\n",
        "    fake_batch = fake_batch.to(device)\n",
        "\n",
        "    if no_grad:\n",
        "        with torch.no_grad():\n",
        "            mem_start = torch.cuda.memory_allocated()\n",
        "            out = model(fake_batch)\n",
        "            mem_end = torch.cuda.memory_allocated()\n",
        "            mem = (mem_end - mem_start)/1000000\n",
        "            \n",
        "    else:\n",
        "        mem_start = torch.cuda.memory_allocated()\n",
        "        out = model(fake_batch)\n",
        "        mem_end = torch.cuda.memory_allocated()\n",
        "        mem = (mem_end - mem_start)/1000000\n",
        "    \n",
        "    del out\n",
        "    model.cpu()\n",
        "    fake_batch = fake_batch.cpu().detach()\n",
        "    del fake_batch\n",
        "\n",
        "    return mem\n",
        " \n",
        "\n",
        "for model_name in models.keys():\n",
        "    model_info[model_name][\"memory_allocated_noGrad\"] = evaluate_memory_allocation(models[model_name], device)\n",
        "    model_info[model_name][\"memory_allocated\"] = evaluate_memory_allocation(models[model_name], device, no_grad=False)\n",
        "    "
      ]
    },
    {
      "cell_type": "code",
      "execution_count": null,
      "metadata": {
        "colab": {
          "base_uri": "https://localhost:8080/",
          "height": 297
        },
        "id": "mq-pYWs9iNHh",
        "outputId": "46bc8af4-5741-4304-e100-4038aaa613e0"
      },
      "outputs": [
        {
          "output_type": "display_data",
          "data": {
            "text/plain": [
              "<Figure size 432x288 with 1 Axes>"
            ],
            "image/png": "[encoded data removed]"
          },
          "metadata": {
            "needs_background": "light"
          }
        }
      ],
      "source": [
        "def plot_torch_nograd_memory(model_info, ax):\n",
        "    x_keys = [name for name in model_info.keys()]\n",
        "\n",
        "    y_no_grad = [model_info[name][\"memory_allocated_noGrad\"] for name in x_keys]\n",
        "    y_grad = [model_info[name][\"memory_allocated\"] for name in x_keys]\n",
        "\n",
        "    x = np.arange(len(x_keys))\n",
        "\n",
        "\n",
        "\n",
        "    ax.scatter(x, y_grad, label = \"With Gradient\", color=\"red\")\n",
        "    ax.scatter(x, y_no_grad, label = \"torch.nograd()\", color = \"green\")\n",
        "\n",
        "    ax.set_title(\"Impact of torch.no_grad() on Memory Allocation\")\n",
        "    ax.set_xticks(x) # values\n",
        "    ax.set_xticklabels(x_keys) \n",
        "    ax.set_ylabel(\"Memory allocation (MB)\")\n",
        "    ax.legend()\n",
        "\n",
        "\n",
        "    \n",
        "fig, ax = plt.subplots()\n",
        "plot_torch_nograd_memory(model_info, ax)\n",
        "plt.xticks(rotation=90)\n",
        "fig.tight_layout()\n",
        "plt.show()"
      ]
    },
    {
      "cell_type": "markdown",
      "source": [
        "We can observe how the amount of GPU vRAM used with torch.no_grad() negligible compared to not using this method. Similarly to the inference time, when we use torch.no_grad() the intermediate values that would be used to calculate a backward pass are not stored, which is reflected on the memory allocation during the forward passes. We can also see that the models with more parameters are the ones that benefit the most from the use of torch.no_grad."
      ],
      "metadata": {
        "id": "DKJMTOZo9QoT"
      }
    },
    {
      "cell_type": "markdown",
      "source": [
        "We will now delete the loaded models to lessen our RAM usage"
      ],
      "metadata": {
        "id": "2eDctnjTj2CM"
      }
    },
    {
      "cell_type": "code",
      "source": [
        "for model in models:\n",
        "  del model\n",
        "  model = None\n",
        "\n",
        "gc.collect()\n",
        "torch.cuda.empty_cache()"
      ],
      "metadata": {
        "id": "QkcOS6u3j7Ny"
      },
      "execution_count": null,
      "outputs": []
    },
    {
      "cell_type": "markdown",
      "source": [
        "### 2a. ResNet-18 Transfer Learning on CIFAR-100\n",
        "\n"
      ],
      "metadata": {
        "id": "ZdzRx_BR-Js2"
      }
    },
    {
      "cell_type": "markdown",
      "source": [
        "We will begin by loading the CIFAR-100 dataset and preparing the datasets."
      ],
      "metadata": {
        "id": "Dy-iGafV-m_7"
      }
    },
    {
      "cell_type": "code",
      "source": [
        "batch_size = 32\n",
        "epochs = 10\n",
        "lr = 0.001\n",
        "momentum = 0.9\n",
        "validation_split = 0.1"
      ],
      "metadata": {
        "id": "k4MGA0fkCyZ1"
      },
      "execution_count": 53,
      "outputs": []
    },
    {
      "cell_type": "code",
      "source": [
        "def getCIFAR100():\n",
        "  train_data = CIFAR100(root=\"./data\", download=True, train = True)\n",
        "  test_data = CIFAR100(root=\"./data\",download = True,train=False)\n",
        "\n",
        "  x = np.concatenate([np.asarray(train_data[i][0]) for i in range(len(train_data))])\n",
        "\n",
        "  mean = np.mean(x, axis=(0, 1))/255\n",
        "  std = np.std(x, axis=(0, 1))/255\n",
        "\n",
        "  mean=mean.tolist()\n",
        "  std=std.tolist()\n",
        "\n",
        "  print(f\"CIFAR-100 Mean: \" + str(mean))\n",
        "  print(f\"CIFAR-100 Std: \" + str(std))\n",
        "\n",
        "  data_transform = tt.Compose([\n",
        "      tt.ToTensor(),\n",
        "      tt.Normalize(mean, std)\n",
        "  ])\n",
        "\n",
        "  #Obtain DataSets\n",
        "  train_data = CIFAR100(root=\"./data\", download=True, train = True, transform=data_transform)\n",
        "  test_data = CIFAR100(root=\"./data\",download = True, train=False, transform =data_transform)\n",
        "\n",
        "  #Obtain Validation Set\n",
        "  dataset_split = [int(len(train_data) * (1-validation_split)), int(len(train_data) * (validation_split))]\n",
        "  train_data, validation_data = torch.utils.data.dataset.random_split(train_data, dataset_split, generator=torch.Generator().manual_seed(seed))\n",
        "\n",
        "  print(len(validation_data))\n",
        "  print(len(train_data))\n",
        "\n",
        "  trainLoader = torch.utils.data.DataLoader(\n",
        "      train_data, batch_size, shuffle=True, drop_last = True)\n",
        "\n",
        "  testLoader = torch.utils.data.DataLoader(\n",
        "      test_data, batch_size, shuffle=True, drop_last = False)\n",
        "\n",
        "\n",
        "  valLoader = torch.utils.data.DataLoader(\n",
        "      validation_data, batch_size, shuffle=True, drop_last = False)\n",
        "\n",
        "  dataLoaders = {\n",
        "      \"train\":trainLoader,\n",
        "      \"val\":valLoader,\n",
        "      \"test\":testLoader\n",
        "  }\n",
        "\n",
        "  n_classes = len(test_data.classes)\n",
        "  return dataLoaders, n_classes\n",
        "\n",
        "dataLoaders, n_classes = getCIFAR100()"
      ],
      "metadata": {
        "colab": {
          "base_uri": "https://localhost:8080/"
        },
        "id": "oDAfPX2W-Z5c",
        "outputId": "05dc868f-2d70-4068-b184-63efead6e061"
      },
      "execution_count": 54,
      "outputs": [
        {
          "output_type": "stream",
          "name": "stdout",
          "text": [
            "Files already downloaded and verified\n",
            "Files already downloaded and verified\n",
            "CIFAR-100 Mean: [0.5070751592371323, 0.48654887331495095, 0.4409178433670343]\n",
            "CIFAR-100 Std: [0.26733428587941854, 0.25643846292120615, 0.2761504713263903]\n",
            "Files already downloaded and verified\n",
            "Files already downloaded and verified\n",
            "5000\n",
            "45000\n"
          ]
        }
      ]
    },
    {
      "cell_type": "markdown",
      "source": [
        "We will now initialize the model and visualize the layers."
      ],
      "metadata": {
        "id": "g9iuqKGmEGqe"
      }
    },
    {
      "cell_type": "code",
      "source": [
        "model = resnet18(weights=\"IMAGENET1K_V1\")\n",
        "print(model)"
      ],
      "metadata": {
        "colab": {
          "base_uri": "https://localhost:8080/"
        },
        "id": "06tUZeUHEZWH",
        "outputId": "438e10ec-8920-4ccb-f778-4816b3413cf3"
      },
      "execution_count": 55,
      "outputs": [
        {
          "output_type": "stream",
          "name": "stdout",
          "text": [
            "ResNet(\n",
            "  (conv1): Conv2d(3, 64, kernel_size=(7, 7), stride=(2, 2), padding=(3, 3), bias=False)\n",
            "  (bn1): BatchNorm2d(64, eps=1e-05, momentum=0.1, affine=True, track_running_stats=True)\n",
            "  (relu): ReLU(inplace=True)\n",
            "  (maxpool): MaxPool2d(kernel_size=3, stride=2, padding=1, dilation=1, ceil_mode=False)\n",
            "  (layer1): Sequential(\n",
            "    (0): BasicBlock(\n",
            "      (conv1): Conv2d(64, 64, kernel_size=(3, 3), stride=(1, 1), padding=(1, 1), bias=False)\n",
            "      (bn1): BatchNorm2d(64, eps=1e-05, momentum=0.1, affine=True, track_running_stats=True)\n",
            "      (relu): ReLU(inplace=True)\n",
            "      (conv2): Conv2d(64, 64, kernel_size=(3, 3), stride=(1, 1), padding=(1, 1), bias=False)\n",
            "      (bn2): BatchNorm2d(64, eps=1e-05, momentum=0.1, affine=True, track_running_stats=True)\n",
            "    )\n",
            "    (1): BasicBlock(\n",
            "      (conv1): Conv2d(64, 64, kernel_size=(3, 3), stride=(1, 1), padding=(1, 1), bias=False)\n",
            "      (bn1): BatchNorm2d(64, eps=1e-05, momentum=0.1, affine=True, track_running_stats=True)\n",
            "      (relu): ReLU(inplace=True)\n",
            "      (conv2): Conv2d(64, 64, kernel_size=(3, 3), stride=(1, 1), padding=(1, 1), bias=False)\n",
            "      (bn2): BatchNorm2d(64, eps=1e-05, momentum=0.1, affine=True, track_running_stats=True)\n",
            "    )\n",
            "  )\n",
            "  (layer2): Sequential(\n",
            "    (0): BasicBlock(\n",
            "      (conv1): Conv2d(64, 128, kernel_size=(3, 3), stride=(2, 2), padding=(1, 1), bias=False)\n",
            "      (bn1): BatchNorm2d(128, eps=1e-05, momentum=0.1, affine=True, track_running_stats=True)\n",
            "      (relu): ReLU(inplace=True)\n",
            "      (conv2): Conv2d(128, 128, kernel_size=(3, 3), stride=(1, 1), padding=(1, 1), bias=False)\n",
            "      (bn2): BatchNorm2d(128, eps=1e-05, momentum=0.1, affine=True, track_running_stats=True)\n",
            "      (downsample): Sequential(\n",
            "        (0): Conv2d(64, 128, kernel_size=(1, 1), stride=(2, 2), bias=False)\n",
            "        (1): BatchNorm2d(128, eps=1e-05, momentum=0.1, affine=True, track_running_stats=True)\n",
            "      )\n",
            "    )\n",
            "    (1): BasicBlock(\n",
            "      (conv1): Conv2d(128, 128, kernel_size=(3, 3), stride=(1, 1), padding=(1, 1), bias=False)\n",
            "      (bn1): BatchNorm2d(128, eps=1e-05, momentum=0.1, affine=True, track_running_stats=True)\n",
            "      (relu): ReLU(inplace=True)\n",
            "      (conv2): Conv2d(128, 128, kernel_size=(3, 3), stride=(1, 1), padding=(1, 1), bias=False)\n",
            "      (bn2): BatchNorm2d(128, eps=1e-05, momentum=0.1, affine=True, track_running_stats=True)\n",
            "    )\n",
            "  )\n",
            "  (layer3): Sequential(\n",
            "    (0): BasicBlock(\n",
            "      (conv1): Conv2d(128, 256, kernel_size=(3, 3), stride=(2, 2), padding=(1, 1), bias=False)\n",
            "      (bn1): BatchNorm2d(256, eps=1e-05, momentum=0.1, affine=True, track_running_stats=True)\n",
            "      (relu): ReLU(inplace=True)\n",
            "      (conv2): Conv2d(256, 256, kernel_size=(3, 3), stride=(1, 1), padding=(1, 1), bias=False)\n",
            "      (bn2): BatchNorm2d(256, eps=1e-05, momentum=0.1, affine=True, track_running_stats=True)\n",
            "      (downsample): Sequential(\n",
            "        (0): Conv2d(128, 256, kernel_size=(1, 1), stride=(2, 2), bias=False)\n",
            "        (1): BatchNorm2d(256, eps=1e-05, momentum=0.1, affine=True, track_running_stats=True)\n",
            "      )\n",
            "    )\n",
            "    (1): BasicBlock(\n",
            "      (conv1): Conv2d(256, 256, kernel_size=(3, 3), stride=(1, 1), padding=(1, 1), bias=False)\n",
            "      (bn1): BatchNorm2d(256, eps=1e-05, momentum=0.1, affine=True, track_running_stats=True)\n",
            "      (relu): ReLU(inplace=True)\n",
            "      (conv2): Conv2d(256, 256, kernel_size=(3, 3), stride=(1, 1), padding=(1, 1), bias=False)\n",
            "      (bn2): BatchNorm2d(256, eps=1e-05, momentum=0.1, affine=True, track_running_stats=True)\n",
            "    )\n",
            "  )\n",
            "  (layer4): Sequential(\n",
            "    (0): BasicBlock(\n",
            "      (conv1): Conv2d(256, 512, kernel_size=(3, 3), stride=(2, 2), padding=(1, 1), bias=False)\n",
            "      (bn1): BatchNorm2d(512, eps=1e-05, momentum=0.1, affine=True, track_running_stats=True)\n",
            "      (relu): ReLU(inplace=True)\n",
            "      (conv2): Conv2d(512, 512, kernel_size=(3, 3), stride=(1, 1), padding=(1, 1), bias=False)\n",
            "      (bn2): BatchNorm2d(512, eps=1e-05, momentum=0.1, affine=True, track_running_stats=True)\n",
            "      (downsample): Sequential(\n",
            "        (0): Conv2d(256, 512, kernel_size=(1, 1), stride=(2, 2), bias=False)\n",
            "        (1): BatchNorm2d(512, eps=1e-05, momentum=0.1, affine=True, track_running_stats=True)\n",
            "      )\n",
            "    )\n",
            "    (1): BasicBlock(\n",
            "      (conv1): Conv2d(512, 512, kernel_size=(3, 3), stride=(1, 1), padding=(1, 1), bias=False)\n",
            "      (bn1): BatchNorm2d(512, eps=1e-05, momentum=0.1, affine=True, track_running_stats=True)\n",
            "      (relu): ReLU(inplace=True)\n",
            "      (conv2): Conv2d(512, 512, kernel_size=(3, 3), stride=(1, 1), padding=(1, 1), bias=False)\n",
            "      (bn2): BatchNorm2d(512, eps=1e-05, momentum=0.1, affine=True, track_running_stats=True)\n",
            "    )\n",
            "  )\n",
            "  (avgpool): AdaptiveAvgPool2d(output_size=(1, 1))\n",
            "  (fc): Linear(in_features=512, out_features=1000, bias=True)\n",
            ")\n"
          ]
        }
      ]
    },
    {
      "cell_type": "markdown",
      "source": [
        "We can see the fully connected layer with 1000 output features, we will change this layer to suit out dataset."
      ],
      "metadata": {
        "id": "IBBf14KUGIWE"
      }
    },
    {
      "cell_type": "code",
      "source": [
        "fc_features_in = model.fc.in_features\n",
        "fc_features_out = n_classes\n",
        "\n",
        "\n",
        "for param in model.parameters():\n",
        "    param.requires_grad = False\n",
        "\n",
        "model.fc = nn.Linear(fc_features_in, fc_features_out)\n",
        "model.fc.weight = nn.init.normal_(model.fc.weight, mean=0.0, std=0.01)    \n",
        "model.fc.bias = nn.init.zeros_(model.fc.bias)\n",
        "\n",
        "criterion = nn.CrossEntropyLoss()\n",
        "optimizer = torch.optim.SGD(model.parameters(), lr=lr, momentum=momentum)\n",
        "\n",
        "model.to(device)"
      ],
      "metadata": {
        "id": "eHwrohRxGRuQ",
        "colab": {
          "base_uri": "https://localhost:8080/"
        },
        "outputId": "8cb86537-17c6-434e-88a6-a68feaf4ffbc"
      },
      "execution_count": 56,
      "outputs": [
        {
          "output_type": "execute_result",
          "data": {
            "text/plain": [
              "ResNet(\n",
              "  (conv1): Conv2d(3, 64, kernel_size=(7, 7), stride=(2, 2), padding=(3, 3), bias=False)\n",
              "  (bn1): BatchNorm2d(64, eps=1e-05, momentum=0.1, affine=True, track_running_stats=True)\n",
              "  (relu): ReLU(inplace=True)\n",
              "  (maxpool): MaxPool2d(kernel_size=3, stride=2, padding=1, dilation=1, ceil_mode=False)\n",
              "  (layer1): Sequential(\n",
              "    (0): BasicBlock(\n",
              "      (conv1): Conv2d(64, 64, kernel_size=(3, 3), stride=(1, 1), padding=(1, 1), bias=False)\n",
              "      (bn1): BatchNorm2d(64, eps=1e-05, momentum=0.1, affine=True, track_running_stats=True)\n",
              "      (relu): ReLU(inplace=True)\n",
              "      (conv2): Conv2d(64, 64, kernel_size=(3, 3), stride=(1, 1), padding=(1, 1), bias=False)\n",
              "      (bn2): BatchNorm2d(64, eps=1e-05, momentum=0.1, affine=True, track_running_stats=True)\n",
              "    )\n",
              "    (1): BasicBlock(\n",
              "      (conv1): Conv2d(64, 64, kernel_size=(3, 3), stride=(1, 1), padding=(1, 1), bias=False)\n",
              "      (bn1): BatchNorm2d(64, eps=1e-05, momentum=0.1, affine=True, track_running_stats=True)\n",
              "      (relu): ReLU(inplace=True)\n",
              "      (conv2): Conv2d(64, 64, kernel_size=(3, 3), stride=(1, 1), padding=(1, 1), bias=False)\n",
              "      (bn2): BatchNorm2d(64, eps=1e-05, momentum=0.1, affine=True, track_running_stats=True)\n",
              "    )\n",
              "  )\n",
              "  (layer2): Sequential(\n",
              "    (0): BasicBlock(\n",
              "      (conv1): Conv2d(64, 128, kernel_size=(3, 3), stride=(2, 2), padding=(1, 1), bias=False)\n",
              "      (bn1): BatchNorm2d(128, eps=1e-05, momentum=0.1, affine=True, track_running_stats=True)\n",
              "      (relu): ReLU(inplace=True)\n",
              "      (conv2): Conv2d(128, 128, kernel_size=(3, 3), stride=(1, 1), padding=(1, 1), bias=False)\n",
              "      (bn2): BatchNorm2d(128, eps=1e-05, momentum=0.1, affine=True, track_running_stats=True)\n",
              "      (downsample): Sequential(\n",
              "        (0): Conv2d(64, 128, kernel_size=(1, 1), stride=(2, 2), bias=False)\n",
              "        (1): BatchNorm2d(128, eps=1e-05, momentum=0.1, affine=True, track_running_stats=True)\n",
              "      )\n",
              "    )\n",
              "    (1): BasicBlock(\n",
              "      (conv1): Conv2d(128, 128, kernel_size=(3, 3), stride=(1, 1), padding=(1, 1), bias=False)\n",
              "      (bn1): BatchNorm2d(128, eps=1e-05, momentum=0.1, affine=True, track_running_stats=True)\n",
              "      (relu): ReLU(inplace=True)\n",
              "      (conv2): Conv2d(128, 128, kernel_size=(3, 3), stride=(1, 1), padding=(1, 1), bias=False)\n",
              "      (bn2): BatchNorm2d(128, eps=1e-05, momentum=0.1, affine=True, track_running_stats=True)\n",
              "    )\n",
              "  )\n",
              "  (layer3): Sequential(\n",
              "    (0): BasicBlock(\n",
              "      (conv1): Conv2d(128, 256, kernel_size=(3, 3), stride=(2, 2), padding=(1, 1), bias=False)\n",
              "      (bn1): BatchNorm2d(256, eps=1e-05, momentum=0.1, affine=True, track_running_stats=True)\n",
              "      (relu): ReLU(inplace=True)\n",
              "      (conv2): Conv2d(256, 256, kernel_size=(3, 3), stride=(1, 1), padding=(1, 1), bias=False)\n",
              "      (bn2): BatchNorm2d(256, eps=1e-05, momentum=0.1, affine=True, track_running_stats=True)\n",
              "      (downsample): Sequential(\n",
              "        (0): Conv2d(128, 256, kernel_size=(1, 1), stride=(2, 2), bias=False)\n",
              "        (1): BatchNorm2d(256, eps=1e-05, momentum=0.1, affine=True, track_running_stats=True)\n",
              "      )\n",
              "    )\n",
              "    (1): BasicBlock(\n",
              "      (conv1): Conv2d(256, 256, kernel_size=(3, 3), stride=(1, 1), padding=(1, 1), bias=False)\n",
              "      (bn1): BatchNorm2d(256, eps=1e-05, momentum=0.1, affine=True, track_running_stats=True)\n",
              "      (relu): ReLU(inplace=True)\n",
              "      (conv2): Conv2d(256, 256, kernel_size=(3, 3), stride=(1, 1), padding=(1, 1), bias=False)\n",
              "      (bn2): BatchNorm2d(256, eps=1e-05, momentum=0.1, affine=True, track_running_stats=True)\n",
              "    )\n",
              "  )\n",
              "  (layer4): Sequential(\n",
              "    (0): BasicBlock(\n",
              "      (conv1): Conv2d(256, 512, kernel_size=(3, 3), stride=(2, 2), padding=(1, 1), bias=False)\n",
              "      (bn1): BatchNorm2d(512, eps=1e-05, momentum=0.1, affine=True, track_running_stats=True)\n",
              "      (relu): ReLU(inplace=True)\n",
              "      (conv2): Conv2d(512, 512, kernel_size=(3, 3), stride=(1, 1), padding=(1, 1), bias=False)\n",
              "      (bn2): BatchNorm2d(512, eps=1e-05, momentum=0.1, affine=True, track_running_stats=True)\n",
              "      (downsample): Sequential(\n",
              "        (0): Conv2d(256, 512, kernel_size=(1, 1), stride=(2, 2), bias=False)\n",
              "        (1): BatchNorm2d(512, eps=1e-05, momentum=0.1, affine=True, track_running_stats=True)\n",
              "      )\n",
              "    )\n",
              "    (1): BasicBlock(\n",
              "      (conv1): Conv2d(512, 512, kernel_size=(3, 3), stride=(1, 1), padding=(1, 1), bias=False)\n",
              "      (bn1): BatchNorm2d(512, eps=1e-05, momentum=0.1, affine=True, track_running_stats=True)\n",
              "      (relu): ReLU(inplace=True)\n",
              "      (conv2): Conv2d(512, 512, kernel_size=(3, 3), stride=(1, 1), padding=(1, 1), bias=False)\n",
              "      (bn2): BatchNorm2d(512, eps=1e-05, momentum=0.1, affine=True, track_running_stats=True)\n",
              "    )\n",
              "  )\n",
              "  (avgpool): AdaptiveAvgPool2d(output_size=(1, 1))\n",
              "  (fc): Linear(in_features=512, out_features=100, bias=True)\n",
              ")"
            ]
          },
          "metadata": {},
          "execution_count": 56
        }
      ]
    },
    {
      "cell_type": "markdown",
      "source": [
        "With our model now defined, we will implement our training function and testing function."
      ],
      "metadata": {
        "id": "X67aSifupL8c"
      }
    },
    {
      "cell_type": "code",
      "source": [
        "def train_model(model, data, criterion, optimizer, device, num_epochs = epochs):\n",
        "  best_model_state_dict = None\n",
        "  best_acc = 0\n",
        "  losses = []\n",
        "  acc = []\n",
        "\n",
        "  for epoch in tqdm(range(num_epochs)):\n",
        "    model, loss = train_step_model(device, model, criterion, optimizer, data[\"train\"])\n",
        "    losses += [loss]\n",
        "\n",
        "\n",
        "    accuracy = evaluate_model(model, data[\"val\"], device)\n",
        "    acc += [accuracy]\n",
        "\n",
        "    print(f\" Loss: {loss}, Accuracy: {accuracy}\")\n",
        "\n",
        "    if(accuracy > best_acc):\n",
        "      best_acc = accuracy\n",
        "      best_model_state_dict = deepcopy(model.state_dict())\n",
        "    \n",
        "  model.load_state_dict(best_model_state_dict)\n",
        "\n",
        "  return model, losses, acc\n",
        "\n",
        "def train_step_model(device, model, criterion, optimizer, data):\n",
        "  losses = []\n",
        "\n",
        "  model.train()\n",
        "  for x, t in data:\n",
        "    x = x.to(device)\n",
        "    t = t.to(device)\n",
        "\n",
        "    optimizer.zero_grad()\n",
        "    \n",
        "    preds = model(x)\n",
        "\n",
        "    loss = criterion(preds, t)\n",
        "    losses.append(loss.cpu().detach().numpy())\n",
        "\n",
        "    loss.backward()\n",
        "    optimizer.step()\n",
        "\n",
        "  return model, np.mean(losses)\n",
        "\n",
        "def evaluate_model(model, data, device):\n",
        "  model.eval()\n",
        "  acc = 0\n",
        "\n",
        "  with torch.no_grad():\n",
        "    for x, t in data:\n",
        "      x = x.to(device)\n",
        "      t = t.to(device)\n",
        "      out = model(x)\n",
        "      \n",
        "      out = out.cpu().detach().numpy()\n",
        "      preds = np.argmax(out, axis = 1)\n",
        "\n",
        "      acc += np.sum(t.cpu().numpy() == preds)\n",
        "\n",
        "      \n",
        "\n",
        "  return (acc / len(data.dataset)) * 100\n",
        "\n",
        "\n",
        "    "
      ],
      "metadata": {
        "id": "9p0pKGwxpRKg"
      },
      "execution_count": 57,
      "outputs": []
    },
    {
      "cell_type": "markdown",
      "source": [
        "With the training and testing routines implemented, we can now finetune our modified ResNet18 on the CIFAR-100 dataset."
      ],
      "metadata": {
        "id": "oKoqUjyopkAz"
      }
    },
    {
      "cell_type": "code",
      "source": [
        "def plot_training_info(losses, accuracies):\n",
        "  epochs = np.arange(len(losses))\n",
        "\n",
        "  fig, (ax1, ax2) = plt.subplots(2, 1, figsize=(10,10))\n",
        "  fig.suptitle(\"Training Information\")\n",
        "  ax1.set_title(\"Validation Loss Curve\")\n",
        "  ax1.set_xlabel(\"Epochs\")\n",
        "  ax1.set_ylabel(\"Loss\")\n",
        "  ax2.set_title(\"Validation Accuracy Curve\")\n",
        "  ax2.set_xlabel(\"Epochs\")\n",
        "  ax2.set_ylabel(\"Accuracy [\\%]\")\n",
        "  ax1.plot(epochs, losses)\n",
        "  ax2.plot(epochs, accuracies)\n",
        "\n",
        "trained_model, losses, accuracies = train_model(model, dataLoaders, criterion, optimizer, device, num_epochs = epochs)\n",
        "plot_training_info(losses, accuracies)"
      ],
      "metadata": {
        "colab": {
          "base_uri": "https://localhost:8080/",
          "height": 1000
        },
        "id": "2xT_jgM4v9l8",
        "outputId": "3ebe6eac-8732-4b09-adb8-7e76b35fdd6a"
      },
      "execution_count": 58,
      "outputs": [
        {
          "output_type": "stream",
          "name": "stderr",
          "text": [
            " 10%|█         | 1/10 [00:20<03:02, 20.30s/it]"
          ]
        },
        {
          "output_type": "stream",
          "name": "stdout",
          "text": [
            " Loss: 3.7470147609710693, Accuracy: 22.82\n"
          ]
        },
        {
          "output_type": "stream",
          "name": "stderr",
          "text": [
            "\r 20%|██        | 2/10 [00:41<02:44, 20.59s/it]"
          ]
        },
        {
          "output_type": "stream",
          "name": "stdout",
          "text": [
            " Loss: 3.2986321449279785, Accuracy: 24.779999999999998\n"
          ]
        },
        {
          "output_type": "stream",
          "name": "stderr",
          "text": [
            "\r 30%|███       | 3/10 [01:02<02:25, 20.79s/it]"
          ]
        },
        {
          "output_type": "stream",
          "name": "stdout",
          "text": [
            " Loss: 3.191645622253418, Accuracy: 25.3\n"
          ]
        },
        {
          "output_type": "stream",
          "name": "stderr",
          "text": [
            "\r 40%|████      | 4/10 [01:22<02:02, 20.47s/it]"
          ]
        },
        {
          "output_type": "stream",
          "name": "stdout",
          "text": [
            " Loss: 3.123007297515869, Accuracy: 25.919999999999998\n"
          ]
        },
        {
          "output_type": "stream",
          "name": "stderr",
          "text": [
            "\r 50%|█████     | 5/10 [01:42<01:42, 20.53s/it]"
          ]
        },
        {
          "output_type": "stream",
          "name": "stdout",
          "text": [
            " Loss: 3.0826876163482666, Accuracy: 26.14\n"
          ]
        },
        {
          "output_type": "stream",
          "name": "stderr",
          "text": [
            "\r 60%|██████    | 6/10 [02:02<01:21, 20.40s/it]"
          ]
        },
        {
          "output_type": "stream",
          "name": "stdout",
          "text": [
            " Loss: 3.055448293685913, Accuracy: 26.52\n"
          ]
        },
        {
          "output_type": "stream",
          "name": "stderr",
          "text": [
            "\r 70%|███████   | 7/10 [02:22<01:00, 20.31s/it]"
          ]
        },
        {
          "output_type": "stream",
          "name": "stdout",
          "text": [
            " Loss: 3.033992052078247, Accuracy: 27.18\n"
          ]
        },
        {
          "output_type": "stream",
          "name": "stderr",
          "text": [
            "\r 80%|████████  | 8/10 [02:43<00:40, 20.43s/it]"
          ]
        },
        {
          "output_type": "stream",
          "name": "stdout",
          "text": [
            " Loss: 3.017702341079712, Accuracy: 27.42\n"
          ]
        },
        {
          "output_type": "stream",
          "name": "stderr",
          "text": [
            "\r 90%|█████████ | 9/10 [03:03<00:20, 20.25s/it]"
          ]
        },
        {
          "output_type": "stream",
          "name": "stdout",
          "text": [
            " Loss: 3.0003809928894043, Accuracy: 26.82\n"
          ]
        },
        {
          "output_type": "stream",
          "name": "stderr",
          "text": [
            "100%|██████████| 10/10 [03:23<00:00, 20.35s/it]"
          ]
        },
        {
          "output_type": "stream",
          "name": "stdout",
          "text": [
            " Loss: 2.9882616996765137, Accuracy: 27.48\n"
          ]
        },
        {
          "output_type": "stream",
          "name": "stderr",
          "text": [
            "\n"
          ]
        },
        {
          "output_type": "display_data",
          "data": {
            "text/plain": [
              "<Figure size 720x720 with 2 Axes>"
            ],
            "image/png": "[encoded data removed]"
          },
          "metadata": {
            "needs_background": "light"
          }
        }
      ]
    },
    {
      "cell_type": "markdown",
      "source": [
        "With our model now trained, we evaluate it on our testing dataset."
      ],
      "metadata": {
        "id": "m2mW9UlUxj9g"
      }
    },
    {
      "cell_type": "code",
      "source": [
        "test_accuracy = evaluate_model(trained_model, dataLoaders[\"test\"], device)\n",
        "print(f\"Obtained Test Accuracy: {test_accuracy}\")"
      ],
      "metadata": {
        "colab": {
          "base_uri": "https://localhost:8080/"
        },
        "id": "2mC9AGZ1xovm",
        "outputId": "4b4de2c7-d57c-4803-ad47-f0fc4b6d0d2b"
      },
      "execution_count": 59,
      "outputs": [
        {
          "output_type": "stream",
          "name": "stdout",
          "text": [
            "Obtained Test Accuracy: 27.82\n"
          ]
        }
      ]
    }
  ],
  "metadata": {
    "kernelspec": {
      "display_name": "Python 3 (ipykernel)",
      "language": "python",
      "name": "python3"
    },
    "language_info": {
      "codemirror_mode": {
        "name": "ipython",
        "version": 3
      },
      "file_extension": ".py",
      "mimetype": "text/x-python",
      "name": "python",
      "nbconvert_exporter": "python",
      "pygments_lexer": "ipython3",
      "version": "3.10.6"
    },
    "vscode": {
      "interpreter": {
        "hash": "e14a965d085186dd938e8b4c7208a59d240cee0dfefadbf7525740d15f1224b8"
      }
    },
    "colab": {
      "provenance": [],
      "include_colab_link": true
    },
    "accelerator": "GPU",
    "gpuClass": "standard",
    "widgets": {
      "application/vnd.jupyter.widget-state+json": {
        "4e7e36f7b39d49a994198d8ee1227836": {
          "model_module": "@jupyter-widgets/controls",
          "model_name": "HBoxModel",
          "model_module_version": "1.5.0",
          "state": {
            "_dom_classes": [],
            "_model_module": "@jupyter-widgets/controls",
            "_model_module_version": "1.5.0",
            "_model_name": "HBoxModel",
            "_view_count": null,
            "_view_module": "@jupyter-widgets/controls",
            "_view_module_version": "1.5.0",
            "_view_name": "HBoxView",
            "box_style": "",
            "children": [
              "IPY_MODEL_419b9bcbdc6b4bdabc43286b6888ae6b",
              "IPY_MODEL_d63d3ef9911a4ac7ad55d7ffcbba91d8",
              "IPY_MODEL_641aaa303ade4ec0b7291dc9dd78f77e"
            ],
            "layout": "IPY_MODEL_a395b16057284b0c8ffdc309f2ab05c3"
          }
        },
        "419b9bcbdc6b4bdabc43286b6888ae6b": {
          "model_module": "@jupyter-widgets/controls",
          "model_name": "HTMLModel",
          "model_module_version": "1.5.0",
          "state": {
            "_dom_classes": [],
            "_model_module": "@jupyter-widgets/controls",
            "_model_module_version": "1.5.0",
            "_model_name": "HTMLModel",
            "_view_count": null,
            "_view_module": "@jupyter-widgets/controls",
            "_view_module_version": "1.5.0",
            "_view_name": "HTMLView",
            "description": "",
            "description_tooltip": null,
            "layout": "IPY_MODEL_fe3238a86641450d90e2740dfc40b4ca",
            "placeholder": "​",
            "style": "IPY_MODEL_39a1c3930b1c4ecd8b589395ee4b5d06",
            "value": "100%"
          }
        },
        "d63d3ef9911a4ac7ad55d7ffcbba91d8": {
          "model_module": "@jupyter-widgets/controls",
          "model_name": "FloatProgressModel",
          "model_module_version": "1.5.0",
          "state": {
            "_dom_classes": [],
            "_model_module": "@jupyter-widgets/controls",
            "_model_module_version": "1.5.0",
            "_model_name": "FloatProgressModel",
            "_view_count": null,
            "_view_module": "@jupyter-widgets/controls",
            "_view_module_version": "1.5.0",
            "_view_name": "ProgressView",
            "bar_style": "success",
            "description": "",
            "description_tooltip": null,
            "layout": "IPY_MODEL_2b8c8896e5044fc5a4a252be4f8687ea",
            "max": 531460341,
            "min": 0,
            "orientation": "horizontal",
            "style": "IPY_MODEL_c612f298f38d4f59a69e6fae63c3bec7",
            "value": 531460341
          }
        },
        "641aaa303ade4ec0b7291dc9dd78f77e": {
          "model_module": "@jupyter-widgets/controls",
          "model_name": "HTMLModel",
          "model_module_version": "1.5.0",
          "state": {
            "_dom_classes": [],
            "_model_module": "@jupyter-widgets/controls",
            "_model_module_version": "1.5.0",
            "_model_name": "HTMLModel",
            "_view_count": null,
            "_view_module": "@jupyter-widgets/controls",
            "_view_module_version": "1.5.0",
            "_view_name": "HTMLView",
            "description": "",
            "description_tooltip": null,
            "layout": "IPY_MODEL_9782e8b0130b43718a082d11d518c7c9",
            "placeholder": "​",
            "style": "IPY_MODEL_c0d0cb991e084ba6ae95d2a0a2c049a6",
            "value": " 507M/507M [00:31&lt;00:00, 18.1MB/s]"
          }
        },
        "a395b16057284b0c8ffdc309f2ab05c3": {
          "model_module": "@jupyter-widgets/base",
          "model_name": "LayoutModel",
          "model_module_version": "1.2.0",
          "state": {
            "_model_module": "@jupyter-widgets/base",
            "_model_module_version": "1.2.0",
            "_model_name": "LayoutModel",
            "_view_count": null,
            "_view_module": "@jupyter-widgets/base",
            "_view_module_version": "1.2.0",
            "_view_name": "LayoutView",
            "align_content": null,
            "align_items": null,
            "align_self": null,
            "border": null,
            "bottom": null,
            "display": null,
            "flex": null,
            "flex_flow": null,
            "grid_area": null,
            "grid_auto_columns": null,
            "grid_auto_flow": null,
            "grid_auto_rows": null,
            "grid_column": null,
            "grid_gap": null,
            "grid_row": null,
            "grid_template_areas": null,
            "grid_template_columns": null,
            "grid_template_rows": null,
            "height": null,
            "justify_content": null,
            "justify_items": null,
            "left": null,
            "margin": null,
            "max_height": null,
            "max_width": null,
            "min_height": null,
            "min_width": null,
            "object_fit": null,
            "object_position": null,
            "order": null,
            "overflow": null,
            "overflow_x": null,
            "overflow_y": null,
            "padding": null,
            "right": null,
            "top": null,
            "visibility": null,
            "width": null
          }
        },
        "fe3238a86641450d90e2740dfc40b4ca": {
          "model_module": "@jupyter-widgets/base",
          "model_name": "LayoutModel",
          "model_module_version": "1.2.0",
          "state": {
            "_model_module": "@jupyter-widgets/base",
            "_model_module_version": "1.2.0",
            "_model_name": "LayoutModel",
            "_view_count": null,
            "_view_module": "@jupyter-widgets/base",
            "_view_module_version": "1.2.0",
            "_view_name": "LayoutView",
            "align_content": null,
            "align_items": null,
            "align_self": null,
            "border": null,
            "bottom": null,
            "display": null,
            "flex": null,
            "flex_flow": null,
            "grid_area": null,
            "grid_auto_columns": null,
            "grid_auto_flow": null,
            "grid_auto_rows": null,
            "grid_column": null,
            "grid_gap": null,
            "grid_row": null,
            "grid_template_areas": null,
            "grid_template_columns": null,
            "grid_template_rows": null,
            "height": null,
            "justify_content": null,
            "justify_items": null,
            "left": null,
            "margin": null,
            "max_height": null,
            "max_width": null,
            "min_height": null,
            "min_width": null,
            "object_fit": null,
            "object_position": null,
            "order": null,
            "overflow": null,
            "overflow_x": null,
            "overflow_y": null,
            "padding": null,
            "right": null,
            "top": null,
            "visibility": null,
            "width": null
          }
        },
        "39a1c3930b1c4ecd8b589395ee4b5d06": {
          "model_module": "@jupyter-widgets/controls",
          "model_name": "DescriptionStyleModel",
          "model_module_version": "1.5.0",
          "state": {
            "_model_module": "@jupyter-widgets/controls",
            "_model_module_version": "1.5.0",
            "_model_name": "DescriptionStyleModel",
            "_view_count": null,
            "_view_module": "@jupyter-widgets/base",
            "_view_module_version": "1.2.0",
            "_view_name": "StyleView",
            "description_width": ""
          }
        },
        "2b8c8896e5044fc5a4a252be4f8687ea": {
          "model_module": "@jupyter-widgets/base",
          "model_name": "LayoutModel",
          "model_module_version": "1.2.0",
          "state": {
            "_model_module": "@jupyter-widgets/base",
            "_model_module_version": "1.2.0",
            "_model_name": "LayoutModel",
            "_view_count": null,
            "_view_module": "@jupyter-widgets/base",
            "_view_module_version": "1.2.0",
            "_view_name": "LayoutView",
            "align_content": null,
            "align_items": null,
            "align_self": null,
            "border": null,
            "bottom": null,
            "display": null,
            "flex": null,
            "flex_flow": null,
            "grid_area": null,
            "grid_auto_columns": null,
            "grid_auto_flow": null,
            "grid_auto_rows": null,
            "grid_column": null,
            "grid_gap": null,
            "grid_row": null,
            "grid_template_areas": null,
            "grid_template_columns": null,
            "grid_template_rows": null,
            "height": null,
            "justify_content": null,
            "justify_items": null,
            "left": null,
            "margin": null,
            "max_height": null,
            "max_width": null,
            "min_height": null,
            "min_width": null,
            "object_fit": null,
            "object_position": null,
            "order": null,
            "overflow": null,
            "overflow_x": null,
            "overflow_y": null,
            "padding": null,
            "right": null,
            "top": null,
            "visibility": null,
            "width": null
          }
        },
        "c612f298f38d4f59a69e6fae63c3bec7": {
          "model_module": "@jupyter-widgets/controls",
          "model_name": "ProgressStyleModel",
          "model_module_version": "1.5.0",
          "state": {
            "_model_module": "@jupyter-widgets/controls",
            "_model_module_version": "1.5.0",
            "_model_name": "ProgressStyleModel",
            "_view_count": null,
            "_view_module": "@jupyter-widgets/base",
            "_view_module_version": "1.2.0",
            "_view_name": "StyleView",
            "bar_color": null,
            "description_width": ""
          }
        },
        "9782e8b0130b43718a082d11d518c7c9": {
          "model_module": "@jupyter-widgets/base",
          "model_name": "LayoutModel",
          "model_module_version": "1.2.0",
          "state": {
            "_model_module": "@jupyter-widgets/base",
            "_model_module_version": "1.2.0",
            "_model_name": "LayoutModel",
            "_view_count": null,
            "_view_module": "@jupyter-widgets/base",
            "_view_module_version": "1.2.0",
            "_view_name": "LayoutView",
            "align_content": null,
            "align_items": null,
            "align_self": null,
            "border": null,
            "bottom": null,
            "display": null,
            "flex": null,
            "flex_flow": null,
            "grid_area": null,
            "grid_auto_columns": null,
            "grid_auto_flow": null,
            "grid_auto_rows": null,
            "grid_column": null,
            "grid_gap": null,
            "grid_row": null,
            "grid_template_areas": null,
            "grid_template_columns": null,
            "grid_template_rows": null,
            "height": null,
            "justify_content": null,
            "justify_items": null,
            "left": null,
            "margin": null,
            "max_height": null,
            "max_width": null,
            "min_height": null,
            "min_width": null,
            "object_fit": null,
            "object_position": null,
            "order": null,
            "overflow": null,
            "overflow_x": null,
            "overflow_y": null,
            "padding": null,
            "right": null,
            "top": null,
            "visibility": null,
            "width": null
          }
        },
        "c0d0cb991e084ba6ae95d2a0a2c049a6": {
          "model_module": "@jupyter-widgets/controls",
          "model_name": "DescriptionStyleModel",
          "model_module_version": "1.5.0",
          "state": {
            "_model_module": "@jupyter-widgets/controls",
            "_model_module_version": "1.5.0",
            "_model_name": "DescriptionStyleModel",
            "_view_count": null,
            "_view_module": "@jupyter-widgets/base",
            "_view_module_version": "1.2.0",
            "_view_name": "StyleView",
            "description_width": ""
          }
        },
        "3a0bc3a06df84c95b948114f10a28dd4": {
          "model_module": "@jupyter-widgets/controls",
          "model_name": "HBoxModel",
          "model_module_version": "1.5.0",
          "state": {
            "_dom_classes": [],
            "_model_module": "@jupyter-widgets/controls",
            "_model_module_version": "1.5.0",
            "_model_name": "HBoxModel",
            "_view_count": null,
            "_view_module": "@jupyter-widgets/controls",
            "_view_module_version": "1.5.0",
            "_view_name": "HBoxView",
            "box_style": "",
            "children": [
              "IPY_MODEL_84f9258e9d53469ca5c18425656bf96c",
              "IPY_MODEL_d0cda3a407c94eb7b65c4b5c1f3d0d9d",
              "IPY_MODEL_8862b3bf1fa749a0a2ca5df07ed5420d"
            ],
            "layout": "IPY_MODEL_839ec7d450974c4e85570b61da7b9855"
          }
        },
        "84f9258e9d53469ca5c18425656bf96c": {
          "model_module": "@jupyter-widgets/controls",
          "model_name": "HTMLModel",
          "model_module_version": "1.5.0",
          "state": {
            "_dom_classes": [],
            "_model_module": "@jupyter-widgets/controls",
            "_model_module_version": "1.5.0",
            "_model_name": "HTMLModel",
            "_view_count": null,
            "_view_module": "@jupyter-widgets/controls",
            "_view_module_version": "1.5.0",
            "_view_name": "HTMLView",
            "description": "",
            "description_tooltip": null,
            "layout": "IPY_MODEL_71ca03466f9d485c82e3b6e0adc79ad0",
            "placeholder": "​",
            "style": "IPY_MODEL_7b34d4a1c7424acb978805794bf0feb4",
            "value": "100%"
          }
        },
        "d0cda3a407c94eb7b65c4b5c1f3d0d9d": {
          "model_module": "@jupyter-widgets/controls",
          "model_name": "FloatProgressModel",
          "model_module_version": "1.5.0",
          "state": {
            "_dom_classes": [],
            "_model_module": "@jupyter-widgets/controls",
            "_model_module_version": "1.5.0",
            "_model_name": "FloatProgressModel",
            "_view_count": null,
            "_view_module": "@jupyter-widgets/controls",
            "_view_module_version": "1.5.0",
            "_view_name": "ProgressView",
            "bar_style": "success",
            "description": "",
            "description_tooltip": null,
            "layout": "IPY_MODEL_25c1a01c2ad84f3a9909fdad00577e34",
            "max": 531503671,
            "min": 0,
            "orientation": "horizontal",
            "style": "IPY_MODEL_e12a531bbaae43f187fd061a208e9705",
            "value": 531503671
          }
        },
        "8862b3bf1fa749a0a2ca5df07ed5420d": {
          "model_module": "@jupyter-widgets/controls",
          "model_name": "HTMLModel",
          "model_module_version": "1.5.0",
          "state": {
            "_dom_classes": [],
            "_model_module": "@jupyter-widgets/controls",
            "_model_module_version": "1.5.0",
            "_model_name": "HTMLModel",
            "_view_count": null,
            "_view_module": "@jupyter-widgets/controls",
            "_view_module_version": "1.5.0",
            "_view_name": "HTMLView",
            "description": "",
            "description_tooltip": null,
            "layout": "IPY_MODEL_47a40ccd4b2f466ca1baf54433ce86fc",
            "placeholder": "​",
            "style": "IPY_MODEL_2aa6258b8c3d4c7ebf367b0f9fc77d9d",
            "value": " 507M/507M [00:02&lt;00:00, 226MB/s]"
          }
        },
        "839ec7d450974c4e85570b61da7b9855": {
          "model_module": "@jupyter-widgets/base",
          "model_name": "LayoutModel",
          "model_module_version": "1.2.0",
          "state": {
            "_model_module": "@jupyter-widgets/base",
            "_model_module_version": "1.2.0",
            "_model_name": "LayoutModel",
            "_view_count": null,
            "_view_module": "@jupyter-widgets/base",
            "_view_module_version": "1.2.0",
            "_view_name": "LayoutView",
            "align_content": null,
            "align_items": null,
            "align_self": null,
            "border": null,
            "bottom": null,
            "display": null,
            "flex": null,
            "flex_flow": null,
            "grid_area": null,
            "grid_auto_columns": null,
            "grid_auto_flow": null,
            "grid_auto_rows": null,
            "grid_column": null,
            "grid_gap": null,
            "grid_row": null,
            "grid_template_areas": null,
            "grid_template_columns": null,
            "grid_template_rows": null,
            "height": null,
            "justify_content": null,
            "justify_items": null,
            "left": null,
            "margin": null,
            "max_height": null,
            "max_width": null,
            "min_height": null,
            "min_width": null,
            "object_fit": null,
            "object_position": null,
            "order": null,
            "overflow": null,
            "overflow_x": null,
            "overflow_y": null,
            "padding": null,
            "right": null,
            "top": null,
            "visibility": null,
            "width": null
          }
        },
        "71ca03466f9d485c82e3b6e0adc79ad0": {
          "model_module": "@jupyter-widgets/base",
          "model_name": "LayoutModel",
          "model_module_version": "1.2.0",
          "state": {
            "_model_module": "@jupyter-widgets/base",
            "_model_module_version": "1.2.0",
            "_model_name": "LayoutModel",
            "_view_count": null,
            "_view_module": "@jupyter-widgets/base",
            "_view_module_version": "1.2.0",
            "_view_name": "LayoutView",
            "align_content": null,
            "align_items": null,
            "align_self": null,
            "border": null,
            "bottom": null,
            "display": null,
            "flex": null,
            "flex_flow": null,
            "grid_area": null,
            "grid_auto_columns": null,
            "grid_auto_flow": null,
            "grid_auto_rows": null,
            "grid_column": null,
            "grid_gap": null,
            "grid_row": null,
            "grid_template_areas": null,
            "grid_template_columns": null,
            "grid_template_rows": null,
            "height": null,
            "justify_content": null,
            "justify_items": null,
            "left": null,
            "margin": null,
            "max_height": null,
            "max_width": null,
            "min_height": null,
            "min_width": null,
            "object_fit": null,
            "object_position": null,
            "order": null,
            "overflow": null,
            "overflow_x": null,
            "overflow_y": null,
            "padding": null,
            "right": null,
            "top": null,
            "visibility": null,
            "width": null
          }
        },
        "7b34d4a1c7424acb978805794bf0feb4": {
          "model_module": "@jupyter-widgets/controls",
          "model_name": "DescriptionStyleModel",
          "model_module_version": "1.5.0",
          "state": {
            "_model_module": "@jupyter-widgets/controls",
            "_model_module_version": "1.5.0",
            "_model_name": "DescriptionStyleModel",
            "_view_count": null,
            "_view_module": "@jupyter-widgets/base",
            "_view_module_version": "1.2.0",
            "_view_name": "StyleView",
            "description_width": ""
          }
        },
        "25c1a01c2ad84f3a9909fdad00577e34": {
          "model_module": "@jupyter-widgets/base",
          "model_name": "LayoutModel",
          "model_module_version": "1.2.0",
          "state": {
            "_model_module": "@jupyter-widgets/base",
            "_model_module_version": "1.2.0",
            "_model_name": "LayoutModel",
            "_view_count": null,
            "_view_module": "@jupyter-widgets/base",
            "_view_module_version": "1.2.0",
            "_view_name": "LayoutView",
            "align_content": null,
            "align_items": null,
            "align_self": null,
            "border": null,
            "bottom": null,
            "display": null,
            "flex": null,
            "flex_flow": null,
            "grid_area": null,
            "grid_auto_columns": null,
            "grid_auto_flow": null,
            "grid_auto_rows": null,
            "grid_column": null,
            "grid_gap": null,
            "grid_row": null,
            "grid_template_areas": null,
            "grid_template_columns": null,
            "grid_template_rows": null,
            "height": null,
            "justify_content": null,
            "justify_items": null,
            "left": null,
            "margin": null,
            "max_height": null,
            "max_width": null,
            "min_height": null,
            "min_width": null,
            "object_fit": null,
            "object_position": null,
            "order": null,
            "overflow": null,
            "overflow_x": null,
            "overflow_y": null,
            "padding": null,
            "right": null,
            "top": null,
            "visibility": null,
            "width": null
          }
        },
        "e12a531bbaae43f187fd061a208e9705": {
          "model_module": "@jupyter-widgets/controls",
          "model_name": "ProgressStyleModel",
          "model_module_version": "1.5.0",
          "state": {
            "_model_module": "@jupyter-widgets/controls",
            "_model_module_version": "1.5.0",
            "_model_name": "ProgressStyleModel",
            "_view_count": null,
            "_view_module": "@jupyter-widgets/base",
            "_view_module_version": "1.2.0",
            "_view_name": "StyleView",
            "bar_color": null,
            "description_width": ""
          }
        },
        "47a40ccd4b2f466ca1baf54433ce86fc": {
          "model_module": "@jupyter-widgets/base",
          "model_name": "LayoutModel",
          "model_module_version": "1.2.0",
          "state": {
            "_model_module": "@jupyter-widgets/base",
            "_model_module_version": "1.2.0",
            "_model_name": "LayoutModel",
            "_view_count": null,
            "_view_module": "@jupyter-widgets/base",
            "_view_module_version": "1.2.0",
            "_view_name": "LayoutView",
            "align_content": null,
            "align_items": null,
            "align_self": null,
            "border": null,
            "bottom": null,
            "display": null,
            "flex": null,
            "flex_flow": null,
            "grid_area": null,
            "grid_auto_columns": null,
            "grid_auto_flow": null,
            "grid_auto_rows": null,
            "grid_column": null,
            "grid_gap": null,
            "grid_row": null,
            "grid_template_areas": null,
            "grid_template_columns": null,
            "grid_template_rows": null,
            "height": null,
            "justify_content": null,
            "justify_items": null,
            "left": null,
            "margin": null,
            "max_height": null,
            "max_width": null,
            "min_height": null,
            "min_width": null,
            "object_fit": null,
            "object_position": null,
            "order": null,
            "overflow": null,
            "overflow_x": null,
            "overflow_y": null,
            "padding": null,
            "right": null,
            "top": null,
            "visibility": null,
            "width": null
          }
        },
        "2aa6258b8c3d4c7ebf367b0f9fc77d9d": {
          "model_module": "@jupyter-widgets/controls",
          "model_name": "DescriptionStyleModel",
          "model_module_version": "1.5.0",
          "state": {
            "_model_module": "@jupyter-widgets/controls",
            "_model_module_version": "1.5.0",
            "_model_name": "DescriptionStyleModel",
            "_view_count": null,
            "_view_module": "@jupyter-widgets/base",
            "_view_module_version": "1.2.0",
            "_view_name": "StyleView",
            "description_width": ""
          }
        },
        "3b5f5589539f4d778a91237b287f27ec": {
          "model_module": "@jupyter-widgets/controls",
          "model_name": "HBoxModel",
          "model_module_version": "1.5.0",
          "state": {
            "_dom_classes": [],
            "_model_module": "@jupyter-widgets/controls",
            "_model_module_version": "1.5.0",
            "_model_name": "HBoxModel",
            "_view_count": null,
            "_view_module": "@jupyter-widgets/controls",
            "_view_module_version": "1.5.0",
            "_view_name": "HBoxView",
            "box_style": "",
            "children": [
              "IPY_MODEL_2dcf142961254597ade86e467f507a8b",
              "IPY_MODEL_9428e8b6d9a24ef4b64c89dce2019aae",
              "IPY_MODEL_01a0f9c6d1314e5490b3fb4c993462c9"
            ],
            "layout": "IPY_MODEL_c3362c79fc374404a5bafa55565f0c59"
          }
        },
        "2dcf142961254597ade86e467f507a8b": {
          "model_module": "@jupyter-widgets/controls",
          "model_name": "HTMLModel",
          "model_module_version": "1.5.0",
          "state": {
            "_dom_classes": [],
            "_model_module": "@jupyter-widgets/controls",
            "_model_module_version": "1.5.0",
            "_model_name": "HTMLModel",
            "_view_count": null,
            "_view_module": "@jupyter-widgets/controls",
            "_view_module_version": "1.5.0",
            "_view_name": "HTMLView",
            "description": "",
            "description_tooltip": null,
            "layout": "IPY_MODEL_91e029f94a1d4cd099ae529ca96f37af",
            "placeholder": "​",
            "style": "IPY_MODEL_e7c028b345ad4922bd9be366544f50b9",
            "value": "100%"
          }
        },
        "9428e8b6d9a24ef4b64c89dce2019aae": {
          "model_module": "@jupyter-widgets/controls",
          "model_name": "FloatProgressModel",
          "model_module_version": "1.5.0",
          "state": {
            "_dom_classes": [],
            "_model_module": "@jupyter-widgets/controls",
            "_model_module_version": "1.5.0",
            "_model_name": "FloatProgressModel",
            "_view_count": null,
            "_view_module": "@jupyter-widgets/controls",
            "_view_module_version": "1.5.0",
            "_view_name": "ProgressView",
            "bar_style": "success",
            "description": "",
            "description_tooltip": null,
            "layout": "IPY_MODEL_0e154fe3730940cdabcfad6f8b08ee49",
            "max": 46830571,
            "min": 0,
            "orientation": "horizontal",
            "style": "IPY_MODEL_24300503d0fc44708b44970ed8fded1d",
            "value": 46830571
          }
        },
        "01a0f9c6d1314e5490b3fb4c993462c9": {
          "model_module": "@jupyter-widgets/controls",
          "model_name": "HTMLModel",
          "model_module_version": "1.5.0",
          "state": {
            "_dom_classes": [],
            "_model_module": "@jupyter-widgets/controls",
            "_model_module_version": "1.5.0",
            "_model_name": "HTMLModel",
            "_view_count": null,
            "_view_module": "@jupyter-widgets/controls",
            "_view_module_version": "1.5.0",
            "_view_name": "HTMLView",
            "description": "",
            "description_tooltip": null,
            "layout": "IPY_MODEL_eb399399303b4c56ab21f846b82657d5",
            "placeholder": "​",
            "style": "IPY_MODEL_30945b478187458fab7639a649e4e946",
            "value": " 44.7M/44.7M [00:00&lt;00:00, 158MB/s]"
          }
        },
        "c3362c79fc374404a5bafa55565f0c59": {
          "model_module": "@jupyter-widgets/base",
          "model_name": "LayoutModel",
          "model_module_version": "1.2.0",
          "state": {
            "_model_module": "@jupyter-widgets/base",
            "_model_module_version": "1.2.0",
            "_model_name": "LayoutModel",
            "_view_count": null,
            "_view_module": "@jupyter-widgets/base",
            "_view_module_version": "1.2.0",
            "_view_name": "LayoutView",
            "align_content": null,
            "align_items": null,
            "align_self": null,
            "border": null,
            "bottom": null,
            "display": null,
            "flex": null,
            "flex_flow": null,
            "grid_area": null,
            "grid_auto_columns": null,
            "grid_auto_flow": null,
            "grid_auto_rows": null,
            "grid_column": null,
            "grid_gap": null,
            "grid_row": null,
            "grid_template_areas": null,
            "grid_template_columns": null,
            "grid_template_rows": null,
            "height": null,
            "justify_content": null,
            "justify_items": null,
            "left": null,
            "margin": null,
            "max_height": null,
            "max_width": null,
            "min_height": null,
            "min_width": null,
            "object_fit": null,
            "object_position": null,
            "order": null,
            "overflow": null,
            "overflow_x": null,
            "overflow_y": null,
            "padding": null,
            "right": null,
            "top": null,
            "visibility": null,
            "width": null
          }
        },
        "91e029f94a1d4cd099ae529ca96f37af": {
          "model_module": "@jupyter-widgets/base",
          "model_name": "LayoutModel",
          "model_module_version": "1.2.0",
          "state": {
            "_model_module": "@jupyter-widgets/base",
            "_model_module_version": "1.2.0",
            "_model_name": "LayoutModel",
            "_view_count": null,
            "_view_module": "@jupyter-widgets/base",
            "_view_module_version": "1.2.0",
            "_view_name": "LayoutView",
            "align_content": null,
            "align_items": null,
            "align_self": null,
            "border": null,
            "bottom": null,
            "display": null,
            "flex": null,
            "flex_flow": null,
            "grid_area": null,
            "grid_auto_columns": null,
            "grid_auto_flow": null,
            "grid_auto_rows": null,
            "grid_column": null,
            "grid_gap": null,
            "grid_row": null,
            "grid_template_areas": null,
            "grid_template_columns": null,
            "grid_template_rows": null,
            "height": null,
            "justify_content": null,
            "justify_items": null,
            "left": null,
            "margin": null,
            "max_height": null,
            "max_width": null,
            "min_height": null,
            "min_width": null,
            "object_fit": null,
            "object_position": null,
            "order": null,
            "overflow": null,
            "overflow_x": null,
            "overflow_y": null,
            "padding": null,
            "right": null,
            "top": null,
            "visibility": null,
            "width": null
          }
        },
        "e7c028b345ad4922bd9be366544f50b9": {
          "model_module": "@jupyter-widgets/controls",
          "model_name": "DescriptionStyleModel",
          "model_module_version": "1.5.0",
          "state": {
            "_model_module": "@jupyter-widgets/controls",
            "_model_module_version": "1.5.0",
            "_model_name": "DescriptionStyleModel",
            "_view_count": null,
            "_view_module": "@jupyter-widgets/base",
            "_view_module_version": "1.2.0",
            "_view_name": "StyleView",
            "description_width": ""
          }
        },
        "0e154fe3730940cdabcfad6f8b08ee49": {
          "model_module": "@jupyter-widgets/base",
          "model_name": "LayoutModel",
          "model_module_version": "1.2.0",
          "state": {
            "_model_module": "@jupyter-widgets/base",
            "_model_module_version": "1.2.0",
            "_model_name": "LayoutModel",
            "_view_count": null,
            "_view_module": "@jupyter-widgets/base",
            "_view_module_version": "1.2.0",
            "_view_name": "LayoutView",
            "align_content": null,
            "align_items": null,
            "align_self": null,
            "border": null,
            "bottom": null,
            "display": null,
            "flex": null,
            "flex_flow": null,
            "grid_area": null,
            "grid_auto_columns": null,
            "grid_auto_flow": null,
            "grid_auto_rows": null,
            "grid_column": null,
            "grid_gap": null,
            "grid_row": null,
            "grid_template_areas": null,
            "grid_template_columns": null,
            "grid_template_rows": null,
            "height": null,
            "justify_content": null,
            "justify_items": null,
            "left": null,
            "margin": null,
            "max_height": null,
            "max_width": null,
            "min_height": null,
            "min_width": null,
            "object_fit": null,
            "object_position": null,
            "order": null,
            "overflow": null,
            "overflow_x": null,
            "overflow_y": null,
            "padding": null,
            "right": null,
            "top": null,
            "visibility": null,
            "width": null
          }
        },
        "24300503d0fc44708b44970ed8fded1d": {
          "model_module": "@jupyter-widgets/controls",
          "model_name": "ProgressStyleModel",
          "model_module_version": "1.5.0",
          "state": {
            "_model_module": "@jupyter-widgets/controls",
            "_model_module_version": "1.5.0",
            "_model_name": "ProgressStyleModel",
            "_view_count": null,
            "_view_module": "@jupyter-widgets/base",
            "_view_module_version": "1.2.0",
            "_view_name": "StyleView",
            "bar_color": null,
            "description_width": ""
          }
        },
        "eb399399303b4c56ab21f846b82657d5": {
          "model_module": "@jupyter-widgets/base",
          "model_name": "LayoutModel",
          "model_module_version": "1.2.0",
          "state": {
            "_model_module": "@jupyter-widgets/base",
            "_model_module_version": "1.2.0",
            "_model_name": "LayoutModel",
            "_view_count": null,
            "_view_module": "@jupyter-widgets/base",
            "_view_module_version": "1.2.0",
            "_view_name": "LayoutView",
            "align_content": null,
            "align_items": null,
            "align_self": null,
            "border": null,
            "bottom": null,
            "display": null,
            "flex": null,
            "flex_flow": null,
            "grid_area": null,
            "grid_auto_columns": null,
            "grid_auto_flow": null,
            "grid_auto_rows": null,
            "grid_column": null,
            "grid_gap": null,
            "grid_row": null,
            "grid_template_areas": null,
            "grid_template_columns": null,
            "grid_template_rows": null,
            "height": null,
            "justify_content": null,
            "justify_items": null,
            "left": null,
            "margin": null,
            "max_height": null,
            "max_width": null,
            "min_height": null,
            "min_width": null,
            "object_fit": null,
            "object_position": null,
            "order": null,
            "overflow": null,
            "overflow_x": null,
            "overflow_y": null,
            "padding": null,
            "right": null,
            "top": null,
            "visibility": null,
            "width": null
          }
        },
        "30945b478187458fab7639a649e4e946": {
          "model_module": "@jupyter-widgets/controls",
          "model_name": "DescriptionStyleModel",
          "model_module_version": "1.5.0",
          "state": {
            "_model_module": "@jupyter-widgets/controls",
            "_model_module_version": "1.5.0",
            "_model_name": "DescriptionStyleModel",
            "_view_count": null,
            "_view_module": "@jupyter-widgets/base",
            "_view_module_version": "1.2.0",
            "_view_name": "StyleView",
            "description_width": ""
          }
        },
        "83bb868cce50455a959078cce3e5b10f": {
          "model_module": "@jupyter-widgets/controls",
          "model_name": "HBoxModel",
          "model_module_version": "1.5.0",
          "state": {
            "_dom_classes": [],
            "_model_module": "@jupyter-widgets/controls",
            "_model_module_version": "1.5.0",
            "_model_name": "HBoxModel",
            "_view_count": null,
            "_view_module": "@jupyter-widgets/controls",
            "_view_module_version": "1.5.0",
            "_view_name": "HBoxView",
            "box_style": "",
            "children": [
              "IPY_MODEL_3b3a74850cd746458d5092df7804a6e5",
              "IPY_MODEL_dcc4fc69183e4674b758a0052e7fcf5f",
              "IPY_MODEL_bfa84b7814b1405da8a6460ab6d92c45"
            ],
            "layout": "IPY_MODEL_4cc1ddf171fb4568b29baf0b0c990798"
          }
        },
        "3b3a74850cd746458d5092df7804a6e5": {
          "model_module": "@jupyter-widgets/controls",
          "model_name": "HTMLModel",
          "model_module_version": "1.5.0",
          "state": {
            "_dom_classes": [],
            "_model_module": "@jupyter-widgets/controls",
            "_model_module_version": "1.5.0",
            "_model_name": "HTMLModel",
            "_view_count": null,
            "_view_module": "@jupyter-widgets/controls",
            "_view_module_version": "1.5.0",
            "_view_name": "HTMLView",
            "description": "",
            "description_tooltip": null,
            "layout": "IPY_MODEL_e903bc7051db42ce97a54953d1a0db19",
            "placeholder": "​",
            "style": "IPY_MODEL_a0abcc9dad1a4536b83237a0db43346b",
            "value": "100%"
          }
        },
        "dcc4fc69183e4674b758a0052e7fcf5f": {
          "model_module": "@jupyter-widgets/controls",
          "model_name": "FloatProgressModel",
          "model_module_version": "1.5.0",
          "state": {
            "_dom_classes": [],
            "_model_module": "@jupyter-widgets/controls",
            "_model_module_version": "1.5.0",
            "_model_name": "FloatProgressModel",
            "_view_count": null,
            "_view_module": "@jupyter-widgets/controls",
            "_view_module_version": "1.5.0",
            "_view_name": "ProgressView",
            "bar_style": "success",
            "description": "",
            "description_tooltip": null,
            "layout": "IPY_MODEL_7b3d8c46c8ff4d8192b382e588458ed2",
            "max": 87319819,
            "min": 0,
            "orientation": "horizontal",
            "style": "IPY_MODEL_9d020648b9cb46eaae0c12836fe10b04",
            "value": 87319819
          }
        },
        "bfa84b7814b1405da8a6460ab6d92c45": {
          "model_module": "@jupyter-widgets/controls",
          "model_name": "HTMLModel",
          "model_module_version": "1.5.0",
          "state": {
            "_dom_classes": [],
            "_model_module": "@jupyter-widgets/controls",
            "_model_module_version": "1.5.0",
            "_model_name": "HTMLModel",
            "_view_count": null,
            "_view_module": "@jupyter-widgets/controls",
            "_view_module_version": "1.5.0",
            "_view_name": "HTMLView",
            "description": "",
            "description_tooltip": null,
            "layout": "IPY_MODEL_0f9470d3e89a481c8a97b8de2fcf5df8",
            "placeholder": "​",
            "style": "IPY_MODEL_a6c4b2ee1a4c4ac1a6603f8bb6717cac",
            "value": " 83.3M/83.3M [00:00&lt;00:00, 183MB/s]"
          }
        },
        "4cc1ddf171fb4568b29baf0b0c990798": {
          "model_module": "@jupyter-widgets/base",
          "model_name": "LayoutModel",
          "model_module_version": "1.2.0",
          "state": {
            "_model_module": "@jupyter-widgets/base",
            "_model_module_version": "1.2.0",
            "_model_name": "LayoutModel",
            "_view_count": null,
            "_view_module": "@jupyter-widgets/base",
            "_view_module_version": "1.2.0",
            "_view_name": "LayoutView",
            "align_content": null,
            "align_items": null,
            "align_self": null,
            "border": null,
            "bottom": null,
            "display": null,
            "flex": null,
            "flex_flow": null,
            "grid_area": null,
            "grid_auto_columns": null,
            "grid_auto_flow": null,
            "grid_auto_rows": null,
            "grid_column": null,
            "grid_gap": null,
            "grid_row": null,
            "grid_template_areas": null,
            "grid_template_columns": null,
            "grid_template_rows": null,
            "height": null,
            "justify_content": null,
            "justify_items": null,
            "left": null,
            "margin": null,
            "max_height": null,
            "max_width": null,
            "min_height": null,
            "min_width": null,
            "object_fit": null,
            "object_position": null,
            "order": null,
            "overflow": null,
            "overflow_x": null,
            "overflow_y": null,
            "padding": null,
            "right": null,
            "top": null,
            "visibility": null,
            "width": null
          }
        },
        "e903bc7051db42ce97a54953d1a0db19": {
          "model_module": "@jupyter-widgets/base",
          "model_name": "LayoutModel",
          "model_module_version": "1.2.0",
          "state": {
            "_model_module": "@jupyter-widgets/base",
            "_model_module_version": "1.2.0",
            "_model_name": "LayoutModel",
            "_view_count": null,
            "_view_module": "@jupyter-widgets/base",
            "_view_module_version": "1.2.0",
            "_view_name": "LayoutView",
            "align_content": null,
            "align_items": null,
            "align_self": null,
            "border": null,
            "bottom": null,
            "display": null,
            "flex": null,
            "flex_flow": null,
            "grid_area": null,
            "grid_auto_columns": null,
            "grid_auto_flow": null,
            "grid_auto_rows": null,
            "grid_column": null,
            "grid_gap": null,
            "grid_row": null,
            "grid_template_areas": null,
            "grid_template_columns": null,
            "grid_template_rows": null,
            "height": null,
            "justify_content": null,
            "justify_items": null,
            "left": null,
            "margin": null,
            "max_height": null,
            "max_width": null,
            "min_height": null,
            "min_width": null,
            "object_fit": null,
            "object_position": null,
            "order": null,
            "overflow": null,
            "overflow_x": null,
            "overflow_y": null,
            "padding": null,
            "right": null,
            "top": null,
            "visibility": null,
            "width": null
          }
        },
        "a0abcc9dad1a4536b83237a0db43346b": {
          "model_module": "@jupyter-widgets/controls",
          "model_name": "DescriptionStyleModel",
          "model_module_version": "1.5.0",
          "state": {
            "_model_module": "@jupyter-widgets/controls",
            "_model_module_version": "1.5.0",
            "_model_name": "DescriptionStyleModel",
            "_view_count": null,
            "_view_module": "@jupyter-widgets/base",
            "_view_module_version": "1.2.0",
            "_view_name": "StyleView",
            "description_width": ""
          }
        },
        "7b3d8c46c8ff4d8192b382e588458ed2": {
          "model_module": "@jupyter-widgets/base",
          "model_name": "LayoutModel",
          "model_module_version": "1.2.0",
          "state": {
            "_model_module": "@jupyter-widgets/base",
            "_model_module_version": "1.2.0",
            "_model_name": "LayoutModel",
            "_view_count": null,
            "_view_module": "@jupyter-widgets/base",
            "_view_module_version": "1.2.0",
            "_view_name": "LayoutView",
            "align_content": null,
            "align_items": null,
            "align_self": null,
            "border": null,
            "bottom": null,
            "display": null,
            "flex": null,
            "flex_flow": null,
            "grid_area": null,
            "grid_auto_columns": null,
            "grid_auto_flow": null,
            "grid_auto_rows": null,
            "grid_column": null,
            "grid_gap": null,
            "grid_row": null,
            "grid_template_areas": null,
            "grid_template_columns": null,
            "grid_template_rows": null,
            "height": null,
            "justify_content": null,
            "justify_items": null,
            "left": null,
            "margin": null,
            "max_height": null,
            "max_width": null,
            "min_height": null,
            "min_width": null,
            "object_fit": null,
            "object_position": null,
            "order": null,
            "overflow": null,
            "overflow_x": null,
            "overflow_y": null,
            "padding": null,
            "right": null,
            "top": null,
            "visibility": null,
            "width": null
          }
        },
        "9d020648b9cb46eaae0c12836fe10b04": {
          "model_module": "@jupyter-widgets/controls",
          "model_name": "ProgressStyleModel",
          "model_module_version": "1.5.0",
          "state": {
            "_model_module": "@jupyter-widgets/controls",
            "_model_module_version": "1.5.0",
            "_model_name": "ProgressStyleModel",
            "_view_count": null,
            "_view_module": "@jupyter-widgets/base",
            "_view_module_version": "1.2.0",
            "_view_name": "StyleView",
            "bar_color": null,
            "description_width": ""
          }
        },
        "0f9470d3e89a481c8a97b8de2fcf5df8": {
          "model_module": "@jupyter-widgets/base",
          "model_name": "LayoutModel",
          "model_module_version": "1.2.0",
          "state": {
            "_model_module": "@jupyter-widgets/base",
            "_model_module_version": "1.2.0",
            "_model_name": "LayoutModel",
            "_view_count": null,
            "_view_module": "@jupyter-widgets/base",
            "_view_module_version": "1.2.0",
            "_view_name": "LayoutView",
            "align_content": null,
            "align_items": null,
            "align_self": null,
            "border": null,
            "bottom": null,
            "display": null,
            "flex": null,
            "flex_flow": null,
            "grid_area": null,
            "grid_auto_columns": null,
            "grid_auto_flow": null,
            "grid_auto_rows": null,
            "grid_column": null,
            "grid_gap": null,
            "grid_row": null,
            "grid_template_areas": null,
            "grid_template_columns": null,
            "grid_template_rows": null,
            "height": null,
            "justify_content": null,
            "justify_items": null,
            "left": null,
            "margin": null,
            "max_height": null,
            "max_width": null,
            "min_height": null,
            "min_width": null,
            "object_fit": null,
            "object_position": null,
            "order": null,
            "overflow": null,
            "overflow_x": null,
            "overflow_y": null,
            "padding": null,
            "right": null,
            "top": null,
            "visibility": null,
            "width": null
          }
        },
        "a6c4b2ee1a4c4ac1a6603f8bb6717cac": {
          "model_module": "@jupyter-widgets/controls",
          "model_name": "DescriptionStyleModel",
          "model_module_version": "1.5.0",
          "state": {
            "_model_module": "@jupyter-widgets/controls",
            "_model_module_version": "1.5.0",
            "_model_name": "DescriptionStyleModel",
            "_view_count": null,
            "_view_module": "@jupyter-widgets/base",
            "_view_module_version": "1.2.0",
            "_view_name": "StyleView",
            "description_width": ""
          }
        },
        "ac73e34ec534490181c47f27240b2ba4": {
          "model_module": "@jupyter-widgets/controls",
          "model_name": "HBoxModel",
          "model_module_version": "1.5.0",
          "state": {
            "_dom_classes": [],
            "_model_module": "@jupyter-widgets/controls",
            "_model_module_version": "1.5.0",
            "_model_name": "HBoxModel",
            "_view_count": null,
            "_view_module": "@jupyter-widgets/controls",
            "_view_module_version": "1.5.0",
            "_view_name": "HBoxView",
            "box_style": "",
            "children": [
              "IPY_MODEL_e6013f9c3e954e259789a9bba1a6a902",
              "IPY_MODEL_0f074808a2f443f5bb1847d723fe12c9",
              "IPY_MODEL_53a4e548ef3d4baaa78dc25f7aee5d25"
            ],
            "layout": "IPY_MODEL_479b9ae799904a908ba0688665039e8e"
          }
        },
        "e6013f9c3e954e259789a9bba1a6a902": {
          "model_module": "@jupyter-widgets/controls",
          "model_name": "HTMLModel",
          "model_module_version": "1.5.0",
          "state": {
            "_dom_classes": [],
            "_model_module": "@jupyter-widgets/controls",
            "_model_module_version": "1.5.0",
            "_model_name": "HTMLModel",
            "_view_count": null,
            "_view_module": "@jupyter-widgets/controls",
            "_view_module_version": "1.5.0",
            "_view_name": "HTMLView",
            "description": "",
            "description_tooltip": null,
            "layout": "IPY_MODEL_7ee65da583404c9c9dc9a3ecb40bbe35",
            "placeholder": "​",
            "style": "IPY_MODEL_758a7daf6ff14601abf94b14f39af697",
            "value": "100%"
          }
        },
        "0f074808a2f443f5bb1847d723fe12c9": {
          "model_module": "@jupyter-widgets/controls",
          "model_name": "FloatProgressModel",
          "model_module_version": "1.5.0",
          "state": {
            "_dom_classes": [],
            "_model_module": "@jupyter-widgets/controls",
            "_model_module_version": "1.5.0",
            "_model_name": "FloatProgressModel",
            "_view_count": null,
            "_view_module": "@jupyter-widgets/controls",
            "_view_module_version": "1.5.0",
            "_view_name": "ProgressView",
            "bar_style": "success",
            "description": "",
            "description_tooltip": null,
            "layout": "IPY_MODEL_0eaabd1050464a0d91a7f5850e8515f8",
            "max": 32342954,
            "min": 0,
            "orientation": "horizontal",
            "style": "IPY_MODEL_3ce20a6cb9d84eb1bda79c3503838e55",
            "value": 32342954
          }
        },
        "53a4e548ef3d4baaa78dc25f7aee5d25": {
          "model_module": "@jupyter-widgets/controls",
          "model_name": "HTMLModel",
          "model_module_version": "1.5.0",
          "state": {
            "_dom_classes": [],
            "_model_module": "@jupyter-widgets/controls",
            "_model_module_version": "1.5.0",
            "_model_name": "HTMLModel",
            "_view_count": null,
            "_view_module": "@jupyter-widgets/controls",
            "_view_module_version": "1.5.0",
            "_view_name": "HTMLView",
            "description": "",
            "description_tooltip": null,
            "layout": "IPY_MODEL_78840bc40e3a478e8ba56e273aa9708f",
            "placeholder": "​",
            "style": "IPY_MODEL_4ee3b50c472d46dcaa153da80e524e94",
            "value": " 30.8M/30.8M [00:00&lt;00:00, 87.7MB/s]"
          }
        },
        "479b9ae799904a908ba0688665039e8e": {
          "model_module": "@jupyter-widgets/base",
          "model_name": "LayoutModel",
          "model_module_version": "1.2.0",
          "state": {
            "_model_module": "@jupyter-widgets/base",
            "_model_module_version": "1.2.0",
            "_model_name": "LayoutModel",
            "_view_count": null,
            "_view_module": "@jupyter-widgets/base",
            "_view_module_version": "1.2.0",
            "_view_name": "LayoutView",
            "align_content": null,
            "align_items": null,
            "align_self": null,
            "border": null,
            "bottom": null,
            "display": null,
            "flex": null,
            "flex_flow": null,
            "grid_area": null,
            "grid_auto_columns": null,
            "grid_auto_flow": null,
            "grid_auto_rows": null,
            "grid_column": null,
            "grid_gap": null,
            "grid_row": null,
            "grid_template_areas": null,
            "grid_template_columns": null,
            "grid_template_rows": null,
            "height": null,
            "justify_content": null,
            "justify_items": null,
            "left": null,
            "margin": null,
            "max_height": null,
            "max_width": null,
            "min_height": null,
            "min_width": null,
            "object_fit": null,
            "object_position": null,
            "order": null,
            "overflow": null,
            "overflow_x": null,
            "overflow_y": null,
            "padding": null,
            "right": null,
            "top": null,
            "visibility": null,
            "width": null
          }
        },
        "7ee65da583404c9c9dc9a3ecb40bbe35": {
          "model_module": "@jupyter-widgets/base",
          "model_name": "LayoutModel",
          "model_module_version": "1.2.0",
          "state": {
            "_model_module": "@jupyter-widgets/base",
            "_model_module_version": "1.2.0",
            "_model_name": "LayoutModel",
            "_view_count": null,
            "_view_module": "@jupyter-widgets/base",
            "_view_module_version": "1.2.0",
            "_view_name": "LayoutView",
            "align_content": null,
            "align_items": null,
            "align_self": null,
            "border": null,
            "bottom": null,
            "display": null,
            "flex": null,
            "flex_flow": null,
            "grid_area": null,
            "grid_auto_columns": null,
            "grid_auto_flow": null,
            "grid_auto_rows": null,
            "grid_column": null,
            "grid_gap": null,
            "grid_row": null,
            "grid_template_areas": null,
            "grid_template_columns": null,
            "grid_template_rows": null,
            "height": null,
            "justify_content": null,
            "justify_items": null,
            "left": null,
            "margin": null,
            "max_height": null,
            "max_width": null,
            "min_height": null,
            "min_width": null,
            "object_fit": null,
            "object_position": null,
            "order": null,
            "overflow": null,
            "overflow_x": null,
            "overflow_y": null,
            "padding": null,
            "right": null,
            "top": null,
            "visibility": null,
            "width": null
          }
        },
        "758a7daf6ff14601abf94b14f39af697": {
          "model_module": "@jupyter-widgets/controls",
          "model_name": "DescriptionStyleModel",
          "model_module_version": "1.5.0",
          "state": {
            "_model_module": "@jupyter-widgets/controls",
            "_model_module_version": "1.5.0",
            "_model_name": "DescriptionStyleModel",
            "_view_count": null,
            "_view_module": "@jupyter-widgets/base",
            "_view_module_version": "1.2.0",
            "_view_name": "StyleView",
            "description_width": ""
          }
        },
        "0eaabd1050464a0d91a7f5850e8515f8": {
          "model_module": "@jupyter-widgets/base",
          "model_name": "LayoutModel",
          "model_module_version": "1.2.0",
          "state": {
            "_model_module": "@jupyter-widgets/base",
            "_model_module_version": "1.2.0",
            "_model_name": "LayoutModel",
            "_view_count": null,
            "_view_module": "@jupyter-widgets/base",
            "_view_module_version": "1.2.0",
            "_view_name": "LayoutView",
            "align_content": null,
            "align_items": null,
            "align_self": null,
            "border": null,
            "bottom": null,
            "display": null,
            "flex": null,
            "flex_flow": null,
            "grid_area": null,
            "grid_auto_columns": null,
            "grid_auto_flow": null,
            "grid_auto_rows": null,
            "grid_column": null,
            "grid_gap": null,
            "grid_row": null,
            "grid_template_areas": null,
            "grid_template_columns": null,
            "grid_template_rows": null,
            "height": null,
            "justify_content": null,
            "justify_items": null,
            "left": null,
            "margin": null,
            "max_height": null,
            "max_width": null,
            "min_height": null,
            "min_width": null,
            "object_fit": null,
            "object_position": null,
            "order": null,
            "overflow": null,
            "overflow_x": null,
            "overflow_y": null,
            "padding": null,
            "right": null,
            "top": null,
            "visibility": null,
            "width": null
          }
        },
        "3ce20a6cb9d84eb1bda79c3503838e55": {
          "model_module": "@jupyter-widgets/controls",
          "model_name": "ProgressStyleModel",
          "model_module_version": "1.5.0",
          "state": {
            "_model_module": "@jupyter-widgets/controls",
            "_model_module_version": "1.5.0",
            "_model_name": "ProgressStyleModel",
            "_view_count": null,
            "_view_module": "@jupyter-widgets/base",
            "_view_module_version": "1.2.0",
            "_view_name": "StyleView",
            "bar_color": null,
            "description_width": ""
          }
        },
        "78840bc40e3a478e8ba56e273aa9708f": {
          "model_module": "@jupyter-widgets/base",
          "model_name": "LayoutModel",
          "model_module_version": "1.2.0",
          "state": {
            "_model_module": "@jupyter-widgets/base",
            "_model_module_version": "1.2.0",
            "_model_name": "LayoutModel",
            "_view_count": null,
            "_view_module": "@jupyter-widgets/base",
            "_view_module_version": "1.2.0",
            "_view_name": "LayoutView",
            "align_content": null,
            "align_items": null,
            "align_self": null,
            "border": null,
            "bottom": null,
            "display": null,
            "flex": null,
            "flex_flow": null,
            "grid_area": null,
            "grid_auto_columns": null,
            "grid_auto_flow": null,
            "grid_auto_rows": null,
            "grid_column": null,
            "grid_gap": null,
            "grid_row": null,
            "grid_template_areas": null,
            "grid_template_columns": null,
            "grid_template_rows": null,
            "height": null,
            "justify_content": null,
            "justify_items": null,
            "left": null,
            "margin": null,
            "max_height": null,
            "max_width": null,
            "min_height": null,
            "min_width": null,
            "object_fit": null,
            "object_position": null,
            "order": null,
            "overflow": null,
            "overflow_x": null,
            "overflow_y": null,
            "padding": null,
            "right": null,
            "top": null,
            "visibility": null,
            "width": null
          }
        },
        "4ee3b50c472d46dcaa153da80e524e94": {
          "model_module": "@jupyter-widgets/controls",
          "model_name": "DescriptionStyleModel",
          "model_module_version": "1.5.0",
          "state": {
            "_model_module": "@jupyter-widgets/controls",
            "_model_module_version": "1.5.0",
            "_model_name": "DescriptionStyleModel",
            "_view_count": null,
            "_view_module": "@jupyter-widgets/base",
            "_view_module_version": "1.2.0",
            "_view_name": "StyleView",
            "description_width": ""
          }
        },
        "15e5cf722a6e408bab1af83654bf3f38": {
          "model_module": "@jupyter-widgets/controls",
          "model_name": "HBoxModel",
          "model_module_version": "1.5.0",
          "state": {
            "_dom_classes": [],
            "_model_module": "@jupyter-widgets/controls",
            "_model_module_version": "1.5.0",
            "_model_name": "HBoxModel",
            "_view_count": null,
            "_view_module": "@jupyter-widgets/controls",
            "_view_module_version": "1.5.0",
            "_view_name": "HBoxView",
            "box_style": "",
            "children": [
              "IPY_MODEL_d9b5485dceea4c47a60c364d74eee376",
              "IPY_MODEL_aff67babb1344feead94d4756ee03d2a",
              "IPY_MODEL_fafd264f2c7c44c78853d83a58b60488"
            ],
            "layout": "IPY_MODEL_d145f67795e44e959e99edf76f85de6a"
          }
        },
        "d9b5485dceea4c47a60c364d74eee376": {
          "model_module": "@jupyter-widgets/controls",
          "model_name": "HTMLModel",
          "model_module_version": "1.5.0",
          "state": {
            "_dom_classes": [],
            "_model_module": "@jupyter-widgets/controls",
            "_model_module_version": "1.5.0",
            "_model_name": "HTMLModel",
            "_view_count": null,
            "_view_module": "@jupyter-widgets/controls",
            "_view_module_version": "1.5.0",
            "_view_name": "HTMLView",
            "description": "",
            "description_tooltip": null,
            "layout": "IPY_MODEL_ef4befa85bf741cb90104965870be5ef",
            "placeholder": "​",
            "style": "IPY_MODEL_839e8386567645a28ab4d96bedea50c4",
            "value": "100%"
          }
        },
        "aff67babb1344feead94d4756ee03d2a": {
          "model_module": "@jupyter-widgets/controls",
          "model_name": "FloatProgressModel",
          "model_module_version": "1.5.0",
          "state": {
            "_dom_classes": [],
            "_model_module": "@jupyter-widgets/controls",
            "_model_module_version": "1.5.0",
            "_model_name": "FloatProgressModel",
            "_view_count": null,
            "_view_module": "@jupyter-widgets/controls",
            "_view_module_version": "1.5.0",
            "_view_name": "ProgressView",
            "bar_style": "success",
            "description": "",
            "description_tooltip": null,
            "layout": "IPY_MODEL_954cd5268ba7481c8729cbcbc2f96aa8",
            "max": 10306551,
            "min": 0,
            "orientation": "horizontal",
            "style": "IPY_MODEL_0630f72fff2147db84a420670bdbb02c",
            "value": 10306551
          }
        },
        "fafd264f2c7c44c78853d83a58b60488": {
          "model_module": "@jupyter-widgets/controls",
          "model_name": "HTMLModel",
          "model_module_version": "1.5.0",
          "state": {
            "_dom_classes": [],
            "_model_module": "@jupyter-widgets/controls",
            "_model_module_version": "1.5.0",
            "_model_name": "HTMLModel",
            "_view_count": null,
            "_view_module": "@jupyter-widgets/controls",
            "_view_module_version": "1.5.0",
            "_view_name": "HTMLView",
            "description": "",
            "description_tooltip": null,
            "layout": "IPY_MODEL_3e0e1ba39d6548c7b8d0cd08e24c0665",
            "placeholder": "​",
            "style": "IPY_MODEL_ba7837daae934c32a33a41b2e8f450bf",
            "value": " 9.83M/9.83M [00:00&lt;00:00, 42.8MB/s]"
          }
        },
        "d145f67795e44e959e99edf76f85de6a": {
          "model_module": "@jupyter-widgets/base",
          "model_name": "LayoutModel",
          "model_module_version": "1.2.0",
          "state": {
            "_model_module": "@jupyter-widgets/base",
            "_model_module_version": "1.2.0",
            "_model_name": "LayoutModel",
            "_view_count": null,
            "_view_module": "@jupyter-widgets/base",
            "_view_module_version": "1.2.0",
            "_view_name": "LayoutView",
            "align_content": null,
            "align_items": null,
            "align_self": null,
            "border": null,
            "bottom": null,
            "display": null,
            "flex": null,
            "flex_flow": null,
            "grid_area": null,
            "grid_auto_columns": null,
            "grid_auto_flow": null,
            "grid_auto_rows": null,
            "grid_column": null,
            "grid_gap": null,
            "grid_row": null,
            "grid_template_areas": null,
            "grid_template_columns": null,
            "grid_template_rows": null,
            "height": null,
            "justify_content": null,
            "justify_items": null,
            "left": null,
            "margin": null,
            "max_height": null,
            "max_width": null,
            "min_height": null,
            "min_width": null,
            "object_fit": null,
            "object_position": null,
            "order": null,
            "overflow": null,
            "overflow_x": null,
            "overflow_y": null,
            "padding": null,
            "right": null,
            "top": null,
            "visibility": null,
            "width": null
          }
        },
        "ef4befa85bf741cb90104965870be5ef": {
          "model_module": "@jupyter-widgets/base",
          "model_name": "LayoutModel",
          "model_module_version": "1.2.0",
          "state": {
            "_model_module": "@jupyter-widgets/base",
            "_model_module_version": "1.2.0",
            "_model_name": "LayoutModel",
            "_view_count": null,
            "_view_module": "@jupyter-widgets/base",
            "_view_module_version": "1.2.0",
            "_view_name": "LayoutView",
            "align_content": null,
            "align_items": null,
            "align_self": null,
            "border": null,
            "bottom": null,
            "display": null,
            "flex": null,
            "flex_flow": null,
            "grid_area": null,
            "grid_auto_columns": null,
            "grid_auto_flow": null,
            "grid_auto_rows": null,
            "grid_column": null,
            "grid_gap": null,
            "grid_row": null,
            "grid_template_areas": null,
            "grid_template_columns": null,
            "grid_template_rows": null,
            "height": null,
            "justify_content": null,
            "justify_items": null,
            "left": null,
            "margin": null,
            "max_height": null,
            "max_width": null,
            "min_height": null,
            "min_width": null,
            "object_fit": null,
            "object_position": null,
            "order": null,
            "overflow": null,
            "overflow_x": null,
            "overflow_y": null,
            "padding": null,
            "right": null,
            "top": null,
            "visibility": null,
            "width": null
          }
        },
        "839e8386567645a28ab4d96bedea50c4": {
          "model_module": "@jupyter-widgets/controls",
          "model_name": "DescriptionStyleModel",
          "model_module_version": "1.5.0",
          "state": {
            "_model_module": "@jupyter-widgets/controls",
            "_model_module_version": "1.5.0",
            "_model_name": "DescriptionStyleModel",
            "_view_count": null,
            "_view_module": "@jupyter-widgets/base",
            "_view_module_version": "1.2.0",
            "_view_name": "StyleView",
            "description_width": ""
          }
        },
        "954cd5268ba7481c8729cbcbc2f96aa8": {
          "model_module": "@jupyter-widgets/base",
          "model_name": "LayoutModel",
          "model_module_version": "1.2.0",
          "state": {
            "_model_module": "@jupyter-widgets/base",
            "_model_module_version": "1.2.0",
            "_model_name": "LayoutModel",
            "_view_count": null,
            "_view_module": "@jupyter-widgets/base",
            "_view_module_version": "1.2.0",
            "_view_name": "LayoutView",
            "align_content": null,
            "align_items": null,
            "align_self": null,
            "border": null,
            "bottom": null,
            "display": null,
            "flex": null,
            "flex_flow": null,
            "grid_area": null,
            "grid_auto_columns": null,
            "grid_auto_flow": null,
            "grid_auto_rows": null,
            "grid_column": null,
            "grid_gap": null,
            "grid_row": null,
            "grid_template_areas": null,
            "grid_template_columns": null,
            "grid_template_rows": null,
            "height": null,
            "justify_content": null,
            "justify_items": null,
            "left": null,
            "margin": null,
            "max_height": null,
            "max_width": null,
            "min_height": null,
            "min_width": null,
            "object_fit": null,
            "object_position": null,
            "order": null,
            "overflow": null,
            "overflow_x": null,
            "overflow_y": null,
            "padding": null,
            "right": null,
            "top": null,
            "visibility": null,
            "width": null
          }
        },
        "0630f72fff2147db84a420670bdbb02c": {
          "model_module": "@jupyter-widgets/controls",
          "model_name": "ProgressStyleModel",
          "model_module_version": "1.5.0",
          "state": {
            "_model_module": "@jupyter-widgets/controls",
            "_model_module_version": "1.5.0",
            "_model_name": "ProgressStyleModel",
            "_view_count": null,
            "_view_module": "@jupyter-widgets/base",
            "_view_module_version": "1.2.0",
            "_view_name": "StyleView",
            "bar_color": null,
            "description_width": ""
          }
        },
        "3e0e1ba39d6548c7b8d0cd08e24c0665": {
          "model_module": "@jupyter-widgets/base",
          "model_name": "LayoutModel",
          "model_module_version": "1.2.0",
          "state": {
            "_model_module": "@jupyter-widgets/base",
            "_model_module_version": "1.2.0",
            "_model_name": "LayoutModel",
            "_view_count": null,
            "_view_module": "@jupyter-widgets/base",
            "_view_module_version": "1.2.0",
            "_view_name": "LayoutView",
            "align_content": null,
            "align_items": null,
            "align_self": null,
            "border": null,
            "bottom": null,
            "display": null,
            "flex": null,
            "flex_flow": null,
            "grid_area": null,
            "grid_auto_columns": null,
            "grid_auto_flow": null,
            "grid_auto_rows": null,
            "grid_column": null,
            "grid_gap": null,
            "grid_row": null,
            "grid_template_areas": null,
            "grid_template_columns": null,
            "grid_template_rows": null,
            "height": null,
            "justify_content": null,
            "justify_items": null,
            "left": null,
            "margin": null,
            "max_height": null,
            "max_width": null,
            "min_height": null,
            "min_width": null,
            "object_fit": null,
            "object_position": null,
            "order": null,
            "overflow": null,
            "overflow_x": null,
            "overflow_y": null,
            "padding": null,
            "right": null,
            "top": null,
            "visibility": null,
            "width": null
          }
        },
        "ba7837daae934c32a33a41b2e8f450bf": {
          "model_module": "@jupyter-widgets/controls",
          "model_name": "DescriptionStyleModel",
          "model_module_version": "1.5.0",
          "state": {
            "_model_module": "@jupyter-widgets/controls",
            "_model_module_version": "1.5.0",
            "_model_name": "DescriptionStyleModel",
            "_view_count": null,
            "_view_module": "@jupyter-widgets/base",
            "_view_module_version": "1.2.0",
            "_view_name": "StyleView",
            "description_width": ""
          }
        }
      }
    }
  },
  "nbformat": 4,
  "nbformat_minor": 0
}