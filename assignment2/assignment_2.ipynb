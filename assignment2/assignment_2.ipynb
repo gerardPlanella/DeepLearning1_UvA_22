{
 "cells": [
  {
   "cell_type": "markdown",
   "metadata": {},
   "source": [
    "# Deep Learning 1, Assignment 2: Transfer Learning for CNNs, Visual Prompting, Graph Neural Networks"
   ]
  },
  {
   "cell_type": "code",
   "execution_count": 2,
   "metadata": {},
   "outputs": [
    {
     "name": "stdout",
     "output_type": "stream",
     "text": [
      "Using GPU: GeForce GTX 1050\n"
     ]
    }
   ],
   "source": [
    "from __future__ import absolute_import\n",
    "from __future__ import division\n",
    "from __future__ import print_function\n",
    "\n",
    "import numpy as np\n",
    "from tqdm.auto import tqdm\n",
    "\n",
    "import torch\n",
    "import torch.nn as nn\n",
    "import torchvision\n",
    "\n",
    "from tqdm import tqdm\n",
    "import matplotlib.pyplot as plt\n",
    "\n",
    "import numpy as np\n",
    "\n",
    "seed = 42\n",
    "\n",
    "# Set the random seeds for reproducibility\n",
    "np.random.seed(seed)\n",
    "torch.manual_seed(seed)\n",
    "if torch.cuda.is_available():  # GPU operation have separate seed\n",
    "    torch.cuda.manual_seed(seed)\n",
    "    torch.cuda.manual_seed_all(seed)\n",
    "    torch.backends.cudnn.determinstic = True\n",
    "    torch.backends.cudnn.benchmark = False\n",
    "\n",
    "# Set default device\n",
    "device = torch.device('cuda' if torch.cuda.is_available() else 'cpu')\n",
    "\n",
    "if(torch.cuda.is_available()):\n",
    "    print(\"Using GPU: \" + torch.cuda.get_device_name(device))\n",
    "else:\n",
    "    print(\"Using CPU\")"
   ]
  },
  {
   "cell_type": "markdown",
   "metadata": {},
   "source": [
    "## Part 1: Transfer Learning for CNNs"
   ]
  },
  {
   "cell_type": "markdown",
   "metadata": {},
   "source": [
    "We will compare the models VGG11, VGG11 with Batch Normalization, ResNet18, ResNet34, DenseNet121 and MobileNet-v3-Small using the Top-1 accuracy on Image Net. The models used are pre-trained from PyTorch."
   ]
  },
  {
   "cell_type": "code",
   "execution_count": 25,
   "metadata": {},
   "outputs": [
    {
     "data": {
      "text/plain": [
       "'\\nmodels = {\\n    \"VGG11\": None,\\n    \"VGG11_BN\":None,\\n    \"ResNet18\": None,\\n    \"ResNet34\": None,\\n    \"DenseNet121\": None\\n}\\n'"
      ]
     },
     "execution_count": 25,
     "metadata": {},
     "output_type": "execute_result"
    }
   ],
   "source": [
    "#Import Models to evaluate\n",
    "from torchvision.models import vgg11, vgg11_bn, resnet18, resnet34, densenet121, mobilenet_v3_small\n",
    "\n",
    "N_IMAGES = 10\n",
    "IMAGE_DIM = 256\n",
    "DATASET = \"IMAGENET1K_V1\"\n",
    "image = torch.rand(1, 3, IMAGE_DIM, IMAGE_DIM, dtype=torch.float)\n",
    "\n",
    "model_info = {\n",
    "    \"VGG11\": {\"top1acc\": 69.02, \"n_params\": 132863336},\n",
    "    \"VGG11_BN\": {\"top1acc\": 70.37, \"n_params\": 132863336},\n",
    "    \"ResNet18\": {\"top1acc\": 69.758, \"n_params\" : 11689512},\n",
    "    \"ResNet34\": {\"top1acc\": 73.314, \"n_params\": 21797672},\n",
    "    \"DenseNet121\": {\"top1acc\": 74.434, \"n_params\": 7978856}\n",
    "}\n",
    "\n",
    "models = {\n",
    "    \"VGG11\": None,\n",
    "    \"VGG11_BN\":None,\n",
    "    \"ResNet18\": None,\n",
    "    \"ResNet34\": None,\n",
    "    \"DenseNet121\": None\n",
    "}"
   ]
  },
  {
   "cell_type": "markdown",
   "metadata": {},
   "source": [
    "We add download the weights separately due to Internet Connection Issues"
   ]
  },
  {
   "cell_type": "code",
   "execution_count": 12,
   "metadata": {},
   "outputs": [],
   "source": [
    "models[\"VGG11\"] = vgg11(weights=DATASET)"
   ]
  },
  {
   "cell_type": "code",
   "execution_count": 13,
   "metadata": {},
   "outputs": [],
   "source": [
    "models[\"VGG11_BN\"] = vgg11_bn(weights=DATASET)"
   ]
  },
  {
   "cell_type": "code",
   "execution_count": 16,
   "metadata": {},
   "outputs": [
    {
     "name": "stderr",
     "output_type": "stream",
     "text": [
      "Downloading: \"https://download.pytorch.org/models/resnet18-f37072fd.pth\" to /home/gerard/.cache/torch/hub/checkpoints/resnet18-f37072fd.pth\n"
     ]
    },
    {
     "data": {
      "application/vnd.jupyter.widget-view+json": {
       "model_id": "61a84797019d4a17a8b606419ae401ed",
       "version_major": 2,
       "version_minor": 0
      },
      "text/plain": [
       "  0%|          | 0.00/44.7M [00:00<?, ?B/s]"
      ]
     },
     "metadata": {},
     "output_type": "display_data"
    }
   ],
   "source": [
    "models[\"ResNet18\"] = resnet18(weights=DATASET)"
   ]
  },
  {
   "cell_type": "code",
   "execution_count": 17,
   "metadata": {},
   "outputs": [
    {
     "name": "stderr",
     "output_type": "stream",
     "text": [
      "Downloading: \"https://download.pytorch.org/models/resnet34-b627a593.pth\" to /home/gerard/.cache/torch/hub/checkpoints/resnet34-b627a593.pth\n"
     ]
    },
    {
     "data": {
      "application/vnd.jupyter.widget-view+json": {
       "model_id": "2daca1878ae54f90b902f699ecf7259b",
       "version_major": 2,
       "version_minor": 0
      },
      "text/plain": [
       "  0%|          | 0.00/83.3M [00:00<?, ?B/s]"
      ]
     },
     "metadata": {},
     "output_type": "display_data"
    }
   ],
   "source": [
    "models[\"ResNet34\"] = resnet34(weights=DATASET)"
   ]
  },
  {
   "cell_type": "code",
   "execution_count": 18,
   "metadata": {},
   "outputs": [
    {
     "name": "stderr",
     "output_type": "stream",
     "text": [
      "Downloading: \"https://download.pytorch.org/models/densenet121-a639ec97.pth\" to /home/gerard/.cache/torch/hub/checkpoints/densenet121-a639ec97.pth\n"
     ]
    },
    {
     "data": {
      "application/vnd.jupyter.widget-view+json": {
       "model_id": "20813caaa0fd4620bcc56de17b8d81ec",
       "version_major": 2,
       "version_minor": 0
      },
      "text/plain": [
       "  0%|          | 0.00/30.8M [00:00<?, ?B/s]"
      ]
     },
     "metadata": {},
     "output_type": "display_data"
    }
   ],
   "source": [
    "models[\"DenseNet121\"] = densenet121(weights=DATASET)"
   ]
  },
  {
   "cell_type": "code",
   "execution_count": 24,
   "metadata": {},
   "outputs": [
    {
     "name": "stderr",
     "output_type": "stream",
     "text": [
      "/tmp/ipykernel_9882/2084210390.py:2: DeprecationWarning: Calling np.sum(generator) is deprecated, and in the future will give a different result. Use np.sum(np.fromiter(generator)) or the python sum builtin instead.\n",
      "  return np.sum(np.fromiter(p, dtype=p.type()) for p in model.parameters())\n"
     ]
    },
    {
     "ename": "TypeError",
     "evalue": "data type 'torch.FloatTensor' not understood",
     "output_type": "error",
     "traceback": [
      "\u001b[0;31m---------------------------------------------------------------------------\u001b[0m",
      "\u001b[0;31mTypeError\u001b[0m                                 Traceback (most recent call last)",
      "Cell \u001b[0;32mIn [24], line 4\u001b[0m\n\u001b[1;32m      1\u001b[0m \u001b[39mdef\u001b[39;00m \u001b[39mcountParameters\u001b[39m(model):\n\u001b[1;32m      2\u001b[0m     \u001b[39mreturn\u001b[39;00m np\u001b[39m.\u001b[39msum(np\u001b[39m.\u001b[39mfromiter(p, dtype\u001b[39m=\u001b[39mp\u001b[39m.\u001b[39mtype()) \u001b[39mfor\u001b[39;00m p \u001b[39min\u001b[39;00m model\u001b[39m.\u001b[39mparameters())\n\u001b[0;32m----> 4\u001b[0m \u001b[39mprint\u001b[39m(countParameters(models[\u001b[39m\"\u001b[39;49m\u001b[39mDenseNet121\u001b[39;49m\u001b[39m\"\u001b[39;49m]))\n",
      "Cell \u001b[0;32mIn [24], line 2\u001b[0m, in \u001b[0;36mcountParameters\u001b[0;34m(model)\u001b[0m\n\u001b[1;32m      1\u001b[0m \u001b[39mdef\u001b[39;00m \u001b[39mcountParameters\u001b[39m(model):\n\u001b[0;32m----> 2\u001b[0m     \u001b[39mreturn\u001b[39;00m np\u001b[39m.\u001b[39;49msum(np\u001b[39m.\u001b[39;49mfromiter(p, dtype\u001b[39m=\u001b[39;49mp\u001b[39m.\u001b[39;49mtype()) \u001b[39mfor\u001b[39;49;00m p \u001b[39min\u001b[39;49;00m model\u001b[39m.\u001b[39;49mparameters())\n",
      "File \u001b[0;32m<__array_function__ internals>:180\u001b[0m, in \u001b[0;36msum\u001b[0;34m(*args, **kwargs)\u001b[0m\n",
      "File \u001b[0;32m~/miniconda3/envs/dl2022/lib/python3.10/site-packages/numpy/core/fromnumeric.py:2292\u001b[0m, in \u001b[0;36msum\u001b[0;34m(a, axis, dtype, out, keepdims, initial, where)\u001b[0m\n\u001b[1;32m   2285\u001b[0m \u001b[39mif\u001b[39;00m \u001b[39misinstance\u001b[39m(a, _gentype):\n\u001b[1;32m   2286\u001b[0m     \u001b[39m# 2018-02-25, 1.15.0\u001b[39;00m\n\u001b[1;32m   2287\u001b[0m     warnings\u001b[39m.\u001b[39mwarn(\n\u001b[1;32m   2288\u001b[0m         \u001b[39m\"\u001b[39m\u001b[39mCalling np.sum(generator) is deprecated, and in the future will give a different result. \u001b[39m\u001b[39m\"\u001b[39m\n\u001b[1;32m   2289\u001b[0m         \u001b[39m\"\u001b[39m\u001b[39mUse np.sum(np.fromiter(generator)) or the python sum builtin instead.\u001b[39m\u001b[39m\"\u001b[39m,\n\u001b[1;32m   2290\u001b[0m         \u001b[39mDeprecationWarning\u001b[39;00m, stacklevel\u001b[39m=\u001b[39m\u001b[39m3\u001b[39m)\n\u001b[0;32m-> 2292\u001b[0m     res \u001b[39m=\u001b[39m _sum_(a)\n\u001b[1;32m   2293\u001b[0m     \u001b[39mif\u001b[39;00m out \u001b[39mis\u001b[39;00m \u001b[39mnot\u001b[39;00m \u001b[39mNone\u001b[39;00m:\n\u001b[1;32m   2294\u001b[0m         out[\u001b[39m.\u001b[39m\u001b[39m.\u001b[39m\u001b[39m.\u001b[39m] \u001b[39m=\u001b[39m res\n",
      "Cell \u001b[0;32mIn [24], line 2\u001b[0m, in \u001b[0;36m<genexpr>\u001b[0;34m(.0)\u001b[0m\n\u001b[1;32m      1\u001b[0m \u001b[39mdef\u001b[39;00m \u001b[39mcountParameters\u001b[39m(model):\n\u001b[0;32m----> 2\u001b[0m     \u001b[39mreturn\u001b[39;00m np\u001b[39m.\u001b[39msum(np\u001b[39m.\u001b[39;49mfromiter(p, dtype\u001b[39m=\u001b[39;49mp\u001b[39m.\u001b[39;49mtype()) \u001b[39mfor\u001b[39;00m p \u001b[39min\u001b[39;00m model\u001b[39m.\u001b[39mparameters())\n",
      "\u001b[0;31mTypeError\u001b[0m: data type 'torch.FloatTensor' not understood"
     ]
    }
   ],
   "source": [
    "def get_inference_time(model, device, image):\n",
    "    model.to(device)\n",
    "    image.to(device)\n",
    "    repet\n",
    "\n",
    "\n",
    "    \n"
   ]
  }
 ],
 "metadata": {
  "kernelspec": {
   "display_name": "Python 3 (ipykernel)",
   "language": "python",
   "name": "python3"
  },
  "language_info": {
   "codemirror_mode": {
    "name": "ipython",
    "version": 3
   },
   "file_extension": ".py",
   "mimetype": "text/x-python",
   "name": "python",
   "nbconvert_exporter": "python",
   "pygments_lexer": "ipython3",
   "version": "3.10.6"
  },
  "vscode": {
   "interpreter": {
    "hash": "e14a965d085186dd938e8b4c7208a59d240cee0dfefadbf7525740d15f1224b8"
   }
  }
 },
 "nbformat": 4,
 "nbformat_minor": 2
}
